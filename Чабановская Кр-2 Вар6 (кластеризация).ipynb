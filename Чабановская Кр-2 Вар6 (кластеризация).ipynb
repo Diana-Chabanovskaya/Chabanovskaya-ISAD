{
 "cells": [
  {
   "cell_type": "markdown",
   "id": "8bbdf5b8",
   "metadata": {},
   "source": [
    "## Data Preprocessing"
   ]
  },
  {
   "cell_type": "code",
   "execution_count": 1,
   "id": "4b1f9b69",
   "metadata": {},
   "outputs": [],
   "source": [
    "#!pip install numpy\n",
    "#!pip install matplotlib\n",
    "#!pip install pandas"
   ]
  },
  {
   "cell_type": "code",
   "execution_count": 2,
   "id": "45f6eed6",
   "metadata": {},
   "outputs": [],
   "source": [
    "import numpy as np\n",
    "import matplotlib.pyplot as plt\n",
    "import pandas as pd"
   ]
  },
  {
   "cell_type": "code",
   "execution_count": 4,
   "id": "28e840b8",
   "metadata": {},
   "outputs": [],
   "source": [
    "#!pip install sklearn\n",
    "#!pip install openpyxl"
   ]
  },
  {
   "cell_type": "code",
   "execution_count": 5,
   "id": "ce84781d",
   "metadata": {},
   "outputs": [
    {
     "data": {
      "text/html": [
       "<div>\n",
       "<style scoped>\n",
       "    .dataframe tbody tr th:only-of-type {\n",
       "        vertical-align: middle;\n",
       "    }\n",
       "\n",
       "    .dataframe tbody tr th {\n",
       "        vertical-align: top;\n",
       "    }\n",
       "\n",
       "    .dataframe thead th {\n",
       "        text-align: right;\n",
       "    }\n",
       "</style>\n",
       "<table border=\"1\" class=\"dataframe\">\n",
       "  <thead>\n",
       "    <tr style=\"text-align: right;\">\n",
       "      <th></th>\n",
       "      <th>Успех</th>\n",
       "      <th>Торговельна площа, кв. м.</th>\n",
       "      <th>Этаж</th>\n",
       "      <th>Количество сотрудников в магазине</th>\n",
       "      <th>Тип</th>\n",
       "      <th>Рейтинг в гуглі</th>\n",
       "      <th>Количество чеков в месяц</th>\n",
       "      <th>Средний чек</th>\n",
       "      <th>Середній дохід наелення,грн</th>\n",
       "      <th>Населення середнє</th>\n",
       "      <th>Фастфуд</th>\n",
       "      <th>Кава на виніс</th>\n",
       "      <th>Піцерія</th>\n",
       "      <th>Магістральна вулиця</th>\n",
       "      <th>Внутрішньоквартальна дорога</th>\n",
       "    </tr>\n",
       "  </thead>\n",
       "  <tbody>\n",
       "    <tr>\n",
       "      <th>0</th>\n",
       "      <td>не успішний</td>\n",
       "      <td>9.00</td>\n",
       "      <td>1</td>\n",
       "      <td>1</td>\n",
       "      <td>Соціальний</td>\n",
       "      <td>3.0</td>\n",
       "      <td>1230.0</td>\n",
       "      <td>76.85</td>\n",
       "      <td>13884.0</td>\n",
       "      <td>3807.0</td>\n",
       "      <td>1</td>\n",
       "      <td>1</td>\n",
       "      <td>0</td>\n",
       "      <td>1</td>\n",
       "      <td>0</td>\n",
       "    </tr>\n",
       "    <tr>\n",
       "      <th>1</th>\n",
       "      <td>не успішний</td>\n",
       "      <td>22.00</td>\n",
       "      <td>1</td>\n",
       "      <td>1</td>\n",
       "      <td>Соціальний</td>\n",
       "      <td>4.1</td>\n",
       "      <td>2715.0</td>\n",
       "      <td>84.86</td>\n",
       "      <td>11700.0</td>\n",
       "      <td>9086.0</td>\n",
       "      <td>0</td>\n",
       "      <td>0</td>\n",
       "      <td>0</td>\n",
       "      <td>1</td>\n",
       "      <td>0</td>\n",
       "    </tr>\n",
       "    <tr>\n",
       "      <th>2</th>\n",
       "      <td>не успішний</td>\n",
       "      <td>13.00</td>\n",
       "      <td>1</td>\n",
       "      <td>1</td>\n",
       "      <td>Соціальний</td>\n",
       "      <td>3.0</td>\n",
       "      <td>878.0</td>\n",
       "      <td>112.02</td>\n",
       "      <td>6786.0</td>\n",
       "      <td>6383.0</td>\n",
       "      <td>0</td>\n",
       "      <td>0</td>\n",
       "      <td>0</td>\n",
       "      <td>1</td>\n",
       "      <td>0</td>\n",
       "    </tr>\n",
       "    <tr>\n",
       "      <th>3</th>\n",
       "      <td>не успішний</td>\n",
       "      <td>18.00</td>\n",
       "      <td>1</td>\n",
       "      <td>1</td>\n",
       "      <td>Стандартний</td>\n",
       "      <td>3.0</td>\n",
       "      <td>2346.0</td>\n",
       "      <td>119.80</td>\n",
       "      <td>12948.0</td>\n",
       "      <td>4.0</td>\n",
       "      <td>1</td>\n",
       "      <td>1</td>\n",
       "      <td>1</td>\n",
       "      <td>1</td>\n",
       "      <td>0</td>\n",
       "    </tr>\n",
       "    <tr>\n",
       "      <th>4</th>\n",
       "      <td>не успішний</td>\n",
       "      <td>25.00</td>\n",
       "      <td>1</td>\n",
       "      <td>1</td>\n",
       "      <td>Соціальний</td>\n",
       "      <td>4.0</td>\n",
       "      <td>2542.0</td>\n",
       "      <td>94.88</td>\n",
       "      <td>11427.0</td>\n",
       "      <td>426.0</td>\n",
       "      <td>0</td>\n",
       "      <td>0</td>\n",
       "      <td>0</td>\n",
       "      <td>0</td>\n",
       "      <td>0</td>\n",
       "    </tr>\n",
       "    <tr>\n",
       "      <th>...</th>\n",
       "      <td>...</td>\n",
       "      <td>...</td>\n",
       "      <td>...</td>\n",
       "      <td>...</td>\n",
       "      <td>...</td>\n",
       "      <td>...</td>\n",
       "      <td>...</td>\n",
       "      <td>...</td>\n",
       "      <td>...</td>\n",
       "      <td>...</td>\n",
       "      <td>...</td>\n",
       "      <td>...</td>\n",
       "      <td>...</td>\n",
       "      <td>...</td>\n",
       "      <td>...</td>\n",
       "    </tr>\n",
       "    <tr>\n",
       "      <th>64</th>\n",
       "      <td>успішний</td>\n",
       "      <td>40.78</td>\n",
       "      <td>1</td>\n",
       "      <td>3</td>\n",
       "      <td>Преміальний</td>\n",
       "      <td>4.0</td>\n",
       "      <td>13552.0</td>\n",
       "      <td>107.37</td>\n",
       "      <td>9399.0</td>\n",
       "      <td>12018.0</td>\n",
       "      <td>0</td>\n",
       "      <td>0</td>\n",
       "      <td>0</td>\n",
       "      <td>1</td>\n",
       "      <td>1</td>\n",
       "    </tr>\n",
       "    <tr>\n",
       "      <th>65</th>\n",
       "      <td>успішний</td>\n",
       "      <td>21.50</td>\n",
       "      <td>1</td>\n",
       "      <td>2</td>\n",
       "      <td>Преміальний</td>\n",
       "      <td>2.3</td>\n",
       "      <td>7598.0</td>\n",
       "      <td>89.13</td>\n",
       "      <td>14079.0</td>\n",
       "      <td>10121.0</td>\n",
       "      <td>0</td>\n",
       "      <td>0</td>\n",
       "      <td>0</td>\n",
       "      <td>0</td>\n",
       "      <td>0</td>\n",
       "    </tr>\n",
       "    <tr>\n",
       "      <th>66</th>\n",
       "      <td>не успішний</td>\n",
       "      <td>115.23</td>\n",
       "      <td>1</td>\n",
       "      <td>1</td>\n",
       "      <td>Стандартний</td>\n",
       "      <td>3.0</td>\n",
       "      <td>5431.0</td>\n",
       "      <td>105.62</td>\n",
       "      <td>11427.0</td>\n",
       "      <td>7221.0</td>\n",
       "      <td>0</td>\n",
       "      <td>0</td>\n",
       "      <td>0</td>\n",
       "      <td>1</td>\n",
       "      <td>0</td>\n",
       "    </tr>\n",
       "    <tr>\n",
       "      <th>67</th>\n",
       "      <td>не успішний</td>\n",
       "      <td>34.80</td>\n",
       "      <td>1</td>\n",
       "      <td>2</td>\n",
       "      <td>Соціальний</td>\n",
       "      <td>4.3</td>\n",
       "      <td>4375.0</td>\n",
       "      <td>168.07</td>\n",
       "      <td>13338.0</td>\n",
       "      <td>3137.0</td>\n",
       "      <td>0</td>\n",
       "      <td>0</td>\n",
       "      <td>0</td>\n",
       "      <td>0</td>\n",
       "      <td>0</td>\n",
       "    </tr>\n",
       "    <tr>\n",
       "      <th>68</th>\n",
       "      <td>успішний</td>\n",
       "      <td>22.00</td>\n",
       "      <td>1</td>\n",
       "      <td>2</td>\n",
       "      <td>Преміальний</td>\n",
       "      <td>4.9</td>\n",
       "      <td>7355.0</td>\n",
       "      <td>101.73</td>\n",
       "      <td>10296.0</td>\n",
       "      <td>6623.0</td>\n",
       "      <td>0</td>\n",
       "      <td>0</td>\n",
       "      <td>0</td>\n",
       "      <td>0</td>\n",
       "      <td>1</td>\n",
       "    </tr>\n",
       "  </tbody>\n",
       "</table>\n",
       "<p>69 rows × 15 columns</p>\n",
       "</div>"
      ],
      "text/plain": [
       "          Успех  Торговельна площа, кв. м.  Этаж  \\\n",
       "0   не успішний                       9.00     1   \n",
       "1   не успішний                      22.00     1   \n",
       "2   не успішний                      13.00     1   \n",
       "3   не успішний                      18.00     1   \n",
       "4   не успішний                      25.00     1   \n",
       "..          ...                        ...   ...   \n",
       "64     успішний                      40.78     1   \n",
       "65     успішний                      21.50     1   \n",
       "66  не успішний                     115.23     1   \n",
       "67  не успішний                      34.80     1   \n",
       "68     успішний                      22.00     1   \n",
       "\n",
       "    Количество сотрудников в магазине           Тип  Рейтинг в гуглі  \\\n",
       "0                                    1   Соціальний              3.0   \n",
       "1                                    1   Соціальний              4.1   \n",
       "2                                    1   Соціальний              3.0   \n",
       "3                                    1  Стандартний              3.0   \n",
       "4                                    1   Соціальний              4.0   \n",
       "..                                 ...          ...              ...   \n",
       "64                                   3  Преміальний              4.0   \n",
       "65                                   2  Преміальний              2.3   \n",
       "66                                   1  Стандартний              3.0   \n",
       "67                                   2   Соціальний              4.3   \n",
       "68                                   2  Преміальний              4.9   \n",
       "\n",
       "    Количество чеков в месяц  Средний чек  Середній дохід наелення,грн  \\\n",
       "0                     1230.0        76.85                      13884.0   \n",
       "1                     2715.0        84.86                      11700.0   \n",
       "2                      878.0       112.02                       6786.0   \n",
       "3                     2346.0       119.80                      12948.0   \n",
       "4                     2542.0        94.88                      11427.0   \n",
       "..                       ...          ...                          ...   \n",
       "64                   13552.0       107.37                       9399.0   \n",
       "65                    7598.0        89.13                      14079.0   \n",
       "66                    5431.0       105.62                      11427.0   \n",
       "67                    4375.0       168.07                      13338.0   \n",
       "68                    7355.0       101.73                      10296.0   \n",
       "\n",
       "    Населення середнє  Фастфуд  Кава на виніс  Піцерія  Магістральна вулиця  \\\n",
       "0              3807.0        1              1        0                    1   \n",
       "1              9086.0        0              0        0                    1   \n",
       "2              6383.0        0              0        0                    1   \n",
       "3                 4.0        1              1        1                    1   \n",
       "4               426.0        0              0        0                    0   \n",
       "..                ...      ...            ...      ...                  ...   \n",
       "64            12018.0        0              0        0                    1   \n",
       "65            10121.0        0              0        0                    0   \n",
       "66             7221.0        0              0        0                    1   \n",
       "67             3137.0        0              0        0                    0   \n",
       "68             6623.0        0              0        0                    0   \n",
       "\n",
       "    Внутрішньоквартальна дорога  \n",
       "0                             0  \n",
       "1                             0  \n",
       "2                             0  \n",
       "3                             0  \n",
       "4                             0  \n",
       "..                          ...  \n",
       "64                            1  \n",
       "65                            0  \n",
       "66                            0  \n",
       "67                            0  \n",
       "68                            1  \n",
       "\n",
       "[69 rows x 15 columns]"
      ]
     },
     "execution_count": 5,
     "metadata": {},
     "output_type": "execute_result"
    }
   ],
   "source": [
    "df = pd.read_excel('КР-2.xlsx', sheet_name='Вар (6)')\n",
    "df"
   ]
  },
  {
   "cell_type": "code",
   "execution_count": 6,
   "id": "7e52e515",
   "metadata": {},
   "outputs": [],
   "source": [
    "df = df.drop(['Этаж'], axis='columns', inplace=False)"
   ]
  },
  {
   "cell_type": "code",
   "execution_count": 7,
   "id": "da4488d8",
   "metadata": {},
   "outputs": [
    {
     "data": {
      "text/html": [
       "<div>\n",
       "<style scoped>\n",
       "    .dataframe tbody tr th:only-of-type {\n",
       "        vertical-align: middle;\n",
       "    }\n",
       "\n",
       "    .dataframe tbody tr th {\n",
       "        vertical-align: top;\n",
       "    }\n",
       "\n",
       "    .dataframe thead th {\n",
       "        text-align: right;\n",
       "    }\n",
       "</style>\n",
       "<table border=\"1\" class=\"dataframe\">\n",
       "  <thead>\n",
       "    <tr style=\"text-align: right;\">\n",
       "      <th></th>\n",
       "      <th>Успех</th>\n",
       "      <th>Торговельна площа, кв. м.</th>\n",
       "      <th>Количество сотрудников в магазине</th>\n",
       "      <th>Тип</th>\n",
       "      <th>Рейтинг в гуглі</th>\n",
       "      <th>Количество чеков в месяц</th>\n",
       "      <th>Средний чек</th>\n",
       "      <th>Середній дохід наелення,грн</th>\n",
       "      <th>Населення середнє</th>\n",
       "      <th>Фастфуд</th>\n",
       "      <th>Кава на виніс</th>\n",
       "      <th>Піцерія</th>\n",
       "      <th>Магістральна вулиця</th>\n",
       "      <th>Внутрішньоквартальна дорога</th>\n",
       "    </tr>\n",
       "  </thead>\n",
       "  <tbody>\n",
       "    <tr>\n",
       "      <th>0</th>\n",
       "      <td>не успішний</td>\n",
       "      <td>9.0</td>\n",
       "      <td>1</td>\n",
       "      <td>Соціальний</td>\n",
       "      <td>3.0</td>\n",
       "      <td>1230.0</td>\n",
       "      <td>76.85</td>\n",
       "      <td>13884.0</td>\n",
       "      <td>3807.0</td>\n",
       "      <td>1</td>\n",
       "      <td>1</td>\n",
       "      <td>0</td>\n",
       "      <td>1</td>\n",
       "      <td>0</td>\n",
       "    </tr>\n",
       "    <tr>\n",
       "      <th>1</th>\n",
       "      <td>не успішний</td>\n",
       "      <td>22.0</td>\n",
       "      <td>1</td>\n",
       "      <td>Соціальний</td>\n",
       "      <td>4.1</td>\n",
       "      <td>2715.0</td>\n",
       "      <td>84.86</td>\n",
       "      <td>11700.0</td>\n",
       "      <td>9086.0</td>\n",
       "      <td>0</td>\n",
       "      <td>0</td>\n",
       "      <td>0</td>\n",
       "      <td>1</td>\n",
       "      <td>0</td>\n",
       "    </tr>\n",
       "    <tr>\n",
       "      <th>2</th>\n",
       "      <td>не успішний</td>\n",
       "      <td>13.0</td>\n",
       "      <td>1</td>\n",
       "      <td>Соціальний</td>\n",
       "      <td>3.0</td>\n",
       "      <td>878.0</td>\n",
       "      <td>112.02</td>\n",
       "      <td>6786.0</td>\n",
       "      <td>6383.0</td>\n",
       "      <td>0</td>\n",
       "      <td>0</td>\n",
       "      <td>0</td>\n",
       "      <td>1</td>\n",
       "      <td>0</td>\n",
       "    </tr>\n",
       "    <tr>\n",
       "      <th>3</th>\n",
       "      <td>не успішний</td>\n",
       "      <td>18.0</td>\n",
       "      <td>1</td>\n",
       "      <td>Стандартний</td>\n",
       "      <td>3.0</td>\n",
       "      <td>2346.0</td>\n",
       "      <td>119.80</td>\n",
       "      <td>12948.0</td>\n",
       "      <td>4.0</td>\n",
       "      <td>1</td>\n",
       "      <td>1</td>\n",
       "      <td>1</td>\n",
       "      <td>1</td>\n",
       "      <td>0</td>\n",
       "    </tr>\n",
       "    <tr>\n",
       "      <th>4</th>\n",
       "      <td>не успішний</td>\n",
       "      <td>25.0</td>\n",
       "      <td>1</td>\n",
       "      <td>Соціальний</td>\n",
       "      <td>4.0</td>\n",
       "      <td>2542.0</td>\n",
       "      <td>94.88</td>\n",
       "      <td>11427.0</td>\n",
       "      <td>426.0</td>\n",
       "      <td>0</td>\n",
       "      <td>0</td>\n",
       "      <td>0</td>\n",
       "      <td>0</td>\n",
       "      <td>0</td>\n",
       "    </tr>\n",
       "  </tbody>\n",
       "</table>\n",
       "</div>"
      ],
      "text/plain": [
       "         Успех  Торговельна площа, кв. м.  Количество сотрудников в магазине   \\\n",
       "0  не успішний                        9.0                                   1   \n",
       "1  не успішний                       22.0                                   1   \n",
       "2  не успішний                       13.0                                   1   \n",
       "3  не успішний                       18.0                                   1   \n",
       "4  не успішний                       25.0                                   1   \n",
       "\n",
       "           Тип  Рейтинг в гуглі  Количество чеков в месяц  Средний чек  \\\n",
       "0   Соціальний              3.0                    1230.0        76.85   \n",
       "1   Соціальний              4.1                    2715.0        84.86   \n",
       "2   Соціальний              3.0                     878.0       112.02   \n",
       "3  Стандартний              3.0                    2346.0       119.80   \n",
       "4   Соціальний              4.0                    2542.0        94.88   \n",
       "\n",
       "   Середній дохід наелення,грн  Населення середнє  Фастфуд  Кава на виніс  \\\n",
       "0                      13884.0             3807.0        1              1   \n",
       "1                      11700.0             9086.0        0              0   \n",
       "2                       6786.0             6383.0        0              0   \n",
       "3                      12948.0                4.0        1              1   \n",
       "4                      11427.0              426.0        0              0   \n",
       "\n",
       "   Піцерія  Магістральна вулиця  Внутрішньоквартальна дорога  \n",
       "0        0                    1                            0  \n",
       "1        0                    1                            0  \n",
       "2        0                    1                            0  \n",
       "3        1                    1                            0  \n",
       "4        0                    0                            0  "
      ]
     },
     "execution_count": 7,
     "metadata": {},
     "output_type": "execute_result"
    }
   ],
   "source": [
    "df.head(5)"
   ]
  },
  {
   "cell_type": "code",
   "execution_count": 8,
   "id": "71017d76",
   "metadata": {},
   "outputs": [
    {
     "name": "stdout",
     "output_type": "stream",
     "text": [
      "<class 'pandas.core.frame.DataFrame'>\n",
      "RangeIndex: 69 entries, 0 to 68\n",
      "Data columns (total 14 columns):\n",
      " #   Column                              Non-Null Count  Dtype  \n",
      "---  ------                              --------------  -----  \n",
      " 0   Успех                               69 non-null     object \n",
      " 1   Торговельна площа, кв. м.           69 non-null     float64\n",
      " 2   Количество сотрудников в магазине   69 non-null     int64  \n",
      " 3   Тип                                 69 non-null     object \n",
      " 4   Рейтинг в гуглі                     69 non-null     float64\n",
      " 5   Количество чеков в месяц            62 non-null     float64\n",
      " 6   Средний чек                         62 non-null     float64\n",
      " 7   Середній дохід наелення,грн         64 non-null     float64\n",
      " 8   Населення середнє                   64 non-null     float64\n",
      " 9   Фастфуд                             69 non-null     int64  \n",
      " 10  Кава на виніс                       69 non-null     int64  \n",
      " 11  Піцерія                             69 non-null     int64  \n",
      " 12  Магістральна вулиця                 69 non-null     int64  \n",
      " 13  Внутрішньоквартальна дорога         69 non-null     int64  \n",
      "dtypes: float64(6), int64(6), object(2)\n",
      "memory usage: 7.7+ KB\n"
     ]
    }
   ],
   "source": [
    "df.info()"
   ]
  },
  {
   "cell_type": "markdown",
   "id": "5658952c",
   "metadata": {},
   "source": [
    "## Vizualization "
   ]
  },
  {
   "cell_type": "code",
   "execution_count": 9,
   "id": "dbb06055",
   "metadata": {},
   "outputs": [
    {
     "data": {
      "text/plain": [
       "<AxesSubplot:ylabel='Frequency'>"
      ]
     },
     "execution_count": 9,
     "metadata": {},
     "output_type": "execute_result"
    },
    {
     "data": {
      "image/png": "[encoded data removed]",
      "text/plain": [
       "<Figure size 432x288 with 1 Axes>"
      ]
     },
     "metadata": {
      "needs_background": "light"
     },
     "output_type": "display_data"
    }
   ],
   "source": [
    "# Feature distribution\n",
    "df['Торговельна площа, кв. м.'].plot(kind='hist')"
   ]
  },
  {
   "cell_type": "code",
   "execution_count": 10,
   "id": "30865ab2",
   "metadata": {},
   "outputs": [
    {
     "data": {
      "text/plain": [
       "<AxesSubplot:ylabel='Frequency'>"
      ]
     },
     "execution_count": 10,
     "metadata": {},
     "output_type": "execute_result"
    },
    {
     "data": {
      "image/png": "[encoded data removed]",
      "text/plain": [
       "<Figure size 432x288 with 1 Axes>"
      ]
     },
     "metadata": {
      "needs_background": "light"
     },
     "output_type": "display_data"
    }
   ],
   "source": [
    "# Feature distribution\n",
    "df['Количество сотрудников в магазине '].plot(kind='hist')"
   ]
  },
  {
   "cell_type": "code",
   "execution_count": 11,
   "id": "9250e63f",
   "metadata": {},
   "outputs": [
    {
     "data": {
      "text/plain": [
       "<AxesSubplot:ylabel='Frequency'>"
      ]
     },
     "execution_count": 11,
     "metadata": {},
     "output_type": "execute_result"
    },
    {
     "data": {
      "image/png": "[encoded data removed]",
      "text/plain": [
       "<Figure size 432x288 with 1 Axes>"
      ]
     },
     "metadata": {
      "needs_background": "light"
     },
     "output_type": "display_data"
    }
   ],
   "source": [
    "# Feature distribution\n",
    "df['Рейтинг в гуглі'].plot(kind='hist')"
   ]
  },
  {
   "cell_type": "code",
   "execution_count": 12,
   "id": "e03b606b",
   "metadata": {},
   "outputs": [
    {
     "data": {
      "text/plain": [
       "<AxesSubplot:ylabel='Frequency'>"
      ]
     },
     "execution_count": 12,
     "metadata": {},
     "output_type": "execute_result"
    },
    {
     "data": {
      "image/png": "[encoded data removed]",
      "text/plain": [
       "<Figure size 432x288 with 1 Axes>"
      ]
     },
     "metadata": {
      "needs_background": "light"
     },
     "output_type": "display_data"
    }
   ],
   "source": [
    "# Feature distribution\n",
    "df['Количество чеков в месяц'].plot(kind='hist')"
   ]
  },
  {
   "cell_type": "code",
   "execution_count": 13,
   "id": "31d38d98",
   "metadata": {},
   "outputs": [
    {
     "data": {
      "text/plain": [
       "<AxesSubplot:ylabel='Frequency'>"
      ]
     },
     "execution_count": 13,
     "metadata": {},
     "output_type": "execute_result"
    },
    {
     "data": {
      "image/png": "[encoded data removed]",
      "text/plain": [
       "<Figure size 432x288 with 1 Axes>"
      ]
     },
     "metadata": {
      "needs_background": "light"
     },
     "output_type": "display_data"
    }
   ],
   "source": [
    "# Feature distribution\n",
    "df['Средний чек'].plot(kind='hist')"
   ]
  },
  {
   "cell_type": "code",
   "execution_count": 14,
   "id": "40a3ceb3",
   "metadata": {},
   "outputs": [
    {
     "data": {
      "text/plain": [
       "<AxesSubplot:ylabel='Frequency'>"
      ]
     },
     "execution_count": 14,
     "metadata": {},
     "output_type": "execute_result"
    },
    {
     "data": {
      "image/png": "[encoded data removed]",
      "text/plain": [
       "<Figure size 432x288 with 1 Axes>"
      ]
     },
     "metadata": {
      "needs_background": "light"
     },
     "output_type": "display_data"
    }
   ],
   "source": [
    "# Feature distribution\n",
    "df['Середній дохід наелення,грн'].plot(kind='hist')"
   ]
  },
  {
   "cell_type": "code",
   "execution_count": 15,
   "id": "210341bd",
   "metadata": {},
   "outputs": [
    {
     "data": {
      "text/plain": [
       "<AxesSubplot:ylabel='Frequency'>"
      ]
     },
     "execution_count": 15,
     "metadata": {},
     "output_type": "execute_result"
    },
    {
     "data": {
      "image/png": "[encoded data removed]",
      "text/plain": [
       "<Figure size 432x288 with 1 Axes>"
      ]
     },
     "metadata": {
      "needs_background": "light"
     },
     "output_type": "display_data"
    }
   ],
   "source": [
    "# Feature distribution\n",
    "df['Населення середнє'].plot(kind='hist')"
   ]
  },
  {
   "cell_type": "code",
   "execution_count": 16,
   "id": "190ba8ad",
   "metadata": {},
   "outputs": [
    {
     "data": {
      "text/plain": [
       "<AxesSubplot:ylabel='Frequency'>"
      ]
     },
     "execution_count": 16,
     "metadata": {},
     "output_type": "execute_result"
    },
    {
     "data": {
      "image/png": "[encoded data removed]",
      "text/plain": [
       "<Figure size 432x288 with 1 Axes>"
      ]
     },
     "metadata": {
      "needs_background": "light"
     },
     "output_type": "display_data"
    }
   ],
   "source": [
    "# Feature distribution\n",
    "df['Фастфуд'].plot(kind='hist')"
   ]
  },
  {
   "cell_type": "code",
   "execution_count": 17,
   "id": "eb6e1e1d",
   "metadata": {},
   "outputs": [
    {
     "data": {
      "text/plain": [
       "<AxesSubplot:ylabel='Frequency'>"
      ]
     },
     "execution_count": 17,
     "metadata": {},
     "output_type": "execute_result"
    },
    {
     "data": {
      "image/png": "[encoded data removed]",
      "text/plain": [
       "<Figure size 432x288 with 1 Axes>"
      ]
     },
     "metadata": {
      "needs_background": "light"
     },
     "output_type": "display_data"
    }
   ],
   "source": [
    "# Feature distribution\n",
    "df['Кава на виніс'].plot(kind='hist')"
   ]
  },
  {
   "cell_type": "code",
   "execution_count": 18,
   "id": "7f027e1c",
   "metadata": {},
   "outputs": [
    {
     "data": {
      "text/plain": [
       "<AxesSubplot:ylabel='Frequency'>"
      ]
     },
     "execution_count": 18,
     "metadata": {},
     "output_type": "execute_result"
    },
    {
     "data": {
      "image/png": "[encoded data removed]",
      "text/plain": [
       "<Figure size 432x288 with 1 Axes>"
      ]
     },
     "metadata": {
      "needs_background": "light"
     },
     "output_type": "display_data"
    }
   ],
   "source": [
    "# Feature distribution\n",
    "df['Піцерія'].plot(kind='hist')"
   ]
  },
  {
   "cell_type": "code",
   "execution_count": 19,
   "id": "d784cc0f",
   "metadata": {},
   "outputs": [
    {
     "data": {
      "text/plain": [
       "<AxesSubplot:ylabel='Frequency'>"
      ]
     },
     "execution_count": 19,
     "metadata": {},
     "output_type": "execute_result"
    },
    {
     "data": {
      "image/png": "[encoded data removed]",
      "text/plain": [
       "<Figure size 432x288 with 1 Axes>"
      ]
     },
     "metadata": {
      "needs_background": "light"
     },
     "output_type": "display_data"
    }
   ],
   "source": [
    "# Feature distribution\n",
    "df['Магістральна вулиця'].plot(kind='hist')"
   ]
  },
  {
   "cell_type": "code",
   "execution_count": 20,
   "id": "5dfa72ad",
   "metadata": {},
   "outputs": [
    {
     "data": {
      "text/plain": [
       "<AxesSubplot:ylabel='Frequency'>"
      ]
     },
     "execution_count": 20,
     "metadata": {},
     "output_type": "execute_result"
    },
    {
     "data": {
      "image/png": "[encoded data removed]",
      "text/plain": [
       "<Figure size 432x288 with 1 Axes>"
      ]
     },
     "metadata": {
      "needs_background": "light"
     },
     "output_type": "display_data"
    }
   ],
   "source": [
    "# Feature distribution\n",
    "df['Внутрішньоквартальна дорога'].plot(kind='hist')"
   ]
  },
  {
   "cell_type": "markdown",
   "id": "1b293280",
   "metadata": {},
   "source": [
    "## Statistics"
   ]
  },
  {
   "cell_type": "code",
   "execution_count": 21,
   "id": "980e2f81",
   "metadata": {},
   "outputs": [
    {
     "data": {
      "text/html": [
       "<div>\n",
       "<style scoped>\n",
       "    .dataframe tbody tr th:only-of-type {\n",
       "        vertical-align: middle;\n",
       "    }\n",
       "\n",
       "    .dataframe tbody tr th {\n",
       "        vertical-align: top;\n",
       "    }\n",
       "\n",
       "    .dataframe thead th {\n",
       "        text-align: right;\n",
       "    }\n",
       "</style>\n",
       "<table border=\"1\" class=\"dataframe\">\n",
       "  <thead>\n",
       "    <tr style=\"text-align: right;\">\n",
       "      <th></th>\n",
       "      <th>Торговельна площа, кв. м.</th>\n",
       "      <th>Количество сотрудников в магазине</th>\n",
       "      <th>Рейтинг в гуглі</th>\n",
       "      <th>Количество чеков в месяц</th>\n",
       "      <th>Средний чек</th>\n",
       "      <th>Середній дохід наелення,грн</th>\n",
       "      <th>Населення середнє</th>\n",
       "      <th>Фастфуд</th>\n",
       "      <th>Кава на виніс</th>\n",
       "      <th>Піцерія</th>\n",
       "      <th>Магістральна вулиця</th>\n",
       "      <th>Внутрішньоквартальна дорога</th>\n",
       "    </tr>\n",
       "  </thead>\n",
       "  <tbody>\n",
       "    <tr>\n",
       "      <th>count</th>\n",
       "      <td>69.000000</td>\n",
       "      <td>69.000000</td>\n",
       "      <td>69.000000</td>\n",
       "      <td>62.000000</td>\n",
       "      <td>62.000000</td>\n",
       "      <td>64.000000</td>\n",
       "      <td>64.000000</td>\n",
       "      <td>69.000000</td>\n",
       "      <td>69.000000</td>\n",
       "      <td>69.000000</td>\n",
       "      <td>69.000000</td>\n",
       "      <td>69.000000</td>\n",
       "    </tr>\n",
       "    <tr>\n",
       "      <th>mean</th>\n",
       "      <td>34.872145</td>\n",
       "      <td>1.869565</td>\n",
       "      <td>3.810145</td>\n",
       "      <td>7097.209677</td>\n",
       "      <td>95.897581</td>\n",
       "      <td>11306.843750</td>\n",
       "      <td>6061.312500</td>\n",
       "      <td>0.202899</td>\n",
       "      <td>0.217391</td>\n",
       "      <td>0.086957</td>\n",
       "      <td>0.449275</td>\n",
       "      <td>0.376812</td>\n",
       "    </tr>\n",
       "    <tr>\n",
       "      <th>std</th>\n",
       "      <td>21.704293</td>\n",
       "      <td>0.838645</td>\n",
       "      <td>0.695605</td>\n",
       "      <td>4275.181297</td>\n",
       "      <td>19.192685</td>\n",
       "      <td>2438.706261</td>\n",
       "      <td>4409.636752</td>\n",
       "      <td>0.405104</td>\n",
       "      <td>0.415493</td>\n",
       "      <td>0.283836</td>\n",
       "      <td>0.501065</td>\n",
       "      <td>0.488137</td>\n",
       "    </tr>\n",
       "    <tr>\n",
       "      <th>min</th>\n",
       "      <td>4.000000</td>\n",
       "      <td>1.000000</td>\n",
       "      <td>1.800000</td>\n",
       "      <td>878.000000</td>\n",
       "      <td>65.270000</td>\n",
       "      <td>0.000000</td>\n",
       "      <td>0.000000</td>\n",
       "      <td>0.000000</td>\n",
       "      <td>0.000000</td>\n",
       "      <td>0.000000</td>\n",
       "      <td>0.000000</td>\n",
       "      <td>0.000000</td>\n",
       "    </tr>\n",
       "    <tr>\n",
       "      <th>25%</th>\n",
       "      <td>22.000000</td>\n",
       "      <td>1.000000</td>\n",
       "      <td>3.000000</td>\n",
       "      <td>3661.000000</td>\n",
       "      <td>82.420000</td>\n",
       "      <td>10095.750000</td>\n",
       "      <td>1615.250000</td>\n",
       "      <td>0.000000</td>\n",
       "      <td>0.000000</td>\n",
       "      <td>0.000000</td>\n",
       "      <td>0.000000</td>\n",
       "      <td>0.000000</td>\n",
       "    </tr>\n",
       "    <tr>\n",
       "      <th>50%</th>\n",
       "      <td>27.500000</td>\n",
       "      <td>2.000000</td>\n",
       "      <td>4.000000</td>\n",
       "      <td>6430.500000</td>\n",
       "      <td>93.855000</td>\n",
       "      <td>11680.500000</td>\n",
       "      <td>6503.000000</td>\n",
       "      <td>0.000000</td>\n",
       "      <td>0.000000</td>\n",
       "      <td>0.000000</td>\n",
       "      <td>0.000000</td>\n",
       "      <td>0.000000</td>\n",
       "    </tr>\n",
       "    <tr>\n",
       "      <th>75%</th>\n",
       "      <td>41.000000</td>\n",
       "      <td>2.000000</td>\n",
       "      <td>4.300000</td>\n",
       "      <td>9070.750000</td>\n",
       "      <td>102.787500</td>\n",
       "      <td>13074.750000</td>\n",
       "      <td>9598.500000</td>\n",
       "      <td>0.000000</td>\n",
       "      <td>0.000000</td>\n",
       "      <td>0.000000</td>\n",
       "      <td>1.000000</td>\n",
       "      <td>1.000000</td>\n",
       "    </tr>\n",
       "    <tr>\n",
       "      <th>max</th>\n",
       "      <td>119.300000</td>\n",
       "      <td>4.000000</td>\n",
       "      <td>5.000000</td>\n",
       "      <td>17537.000000</td>\n",
       "      <td>168.070000</td>\n",
       "      <td>14937.000000</td>\n",
       "      <td>14157.000000</td>\n",
       "      <td>1.000000</td>\n",
       "      <td>1.000000</td>\n",
       "      <td>1.000000</td>\n",
       "      <td>1.000000</td>\n",
       "      <td>1.000000</td>\n",
       "    </tr>\n",
       "  </tbody>\n",
       "</table>\n",
       "</div>"
      ],
      "text/plain": [
       "       Торговельна площа, кв. м.  Количество сотрудников в магазине   \\\n",
       "count                  69.000000                           69.000000   \n",
       "mean                   34.872145                            1.869565   \n",
       "std                    21.704293                            0.838645   \n",
       "min                     4.000000                            1.000000   \n",
       "25%                    22.000000                            1.000000   \n",
       "50%                    27.500000                            2.000000   \n",
       "75%                    41.000000                            2.000000   \n",
       "max                   119.300000                            4.000000   \n",
       "\n",
       "       Рейтинг в гуглі  Количество чеков в месяц  Средний чек  \\\n",
       "count        69.000000                 62.000000    62.000000   \n",
       "mean          3.810145               7097.209677    95.897581   \n",
       "std           0.695605               4275.181297    19.192685   \n",
       "min           1.800000                878.000000    65.270000   \n",
       "25%           3.000000               3661.000000    82.420000   \n",
       "50%           4.000000               6430.500000    93.855000   \n",
       "75%           4.300000               9070.750000   102.787500   \n",
       "max           5.000000              17537.000000   168.070000   \n",
       "\n",
       "       Середній дохід наелення,грн  Населення середнє    Фастфуд  \\\n",
       "count                    64.000000          64.000000  69.000000   \n",
       "mean                  11306.843750        6061.312500   0.202899   \n",
       "std                    2438.706261        4409.636752   0.405104   \n",
       "min                       0.000000           0.000000   0.000000   \n",
       "25%                   10095.750000        1615.250000   0.000000   \n",
       "50%                   11680.500000        6503.000000   0.000000   \n",
       "75%                   13074.750000        9598.500000   0.000000   \n",
       "max                   14937.000000       14157.000000   1.000000   \n",
       "\n",
       "       Кава на виніс    Піцерія  Магістральна вулиця  \\\n",
       "count      69.000000  69.000000            69.000000   \n",
       "mean        0.217391   0.086957             0.449275   \n",
       "std         0.415493   0.283836             0.501065   \n",
       "min         0.000000   0.000000             0.000000   \n",
       "25%         0.000000   0.000000             0.000000   \n",
       "50%         0.000000   0.000000             0.000000   \n",
       "75%         0.000000   0.000000             1.000000   \n",
       "max         1.000000   1.000000             1.000000   \n",
       "\n",
       "       Внутрішньоквартальна дорога  \n",
       "count                    69.000000  \n",
       "mean                      0.376812  \n",
       "std                       0.488137  \n",
       "min                       0.000000  \n",
       "25%                       0.000000  \n",
       "50%                       0.000000  \n",
       "75%                       1.000000  \n",
       "max                       1.000000  "
      ]
     },
     "execution_count": 21,
     "metadata": {},
     "output_type": "execute_result"
    }
   ],
   "source": [
    "df.describe()"
   ]
  },
  {
   "cell_type": "markdown",
   "id": "3341d870",
   "metadata": {},
   "source": [
    "## Missing data"
   ]
  },
  {
   "cell_type": "code",
   "execution_count": 32,
   "id": "bc2862fa",
   "metadata": {},
   "outputs": [
    {
     "data": {
      "text/plain": [
       "Успех                                 0\n",
       "Торговельна площа, кв. м.             0\n",
       "Количество сотрудников в магазине     0\n",
       "Тип                                   0\n",
       "Рейтинг в гуглі                       0\n",
       "Количество чеков в месяц              7\n",
       "Средний чек                           7\n",
       "Середній дохід наелення,грн           5\n",
       "Населення середнє                     5\n",
       "Фастфуд                               0\n",
       "Кава на виніс                         0\n",
       "Піцерія                               0\n",
       "Магістральна вулиця                   0\n",
       "Внутрішньоквартальна дорога           0\n",
       "dtype: int64"
      ]
     },
     "execution_count": 32,
     "metadata": {},
     "output_type": "execute_result"
    }
   ],
   "source": [
    "# Cheking Missing data\n",
    "df.isnull().sum()"
   ]
  },
  {
   "cell_type": "code",
   "execution_count": 33,
   "id": "bbc9a64d",
   "metadata": {},
   "outputs": [
    {
     "data": {
      "text/plain": [
       "Успех                                  object\n",
       "Торговельна площа, кв. м.             float64\n",
       "Количество сотрудников в магазине       int64\n",
       "Тип                                    object\n",
       "Рейтинг в гуглі                       float64\n",
       "Количество чеков в месяц              float64\n",
       "Средний чек                           float64\n",
       "Середній дохід наелення,грн           float64\n",
       "Населення середнє                     float64\n",
       "Фастфуд                                 int64\n",
       "Кава на виніс                           int64\n",
       "Піцерія                                 int64\n",
       "Магістральна вулиця                     int64\n",
       "Внутрішньоквартальна дорога             int64\n",
       "dtype: object"
      ]
     },
     "execution_count": 33,
     "metadata": {},
     "output_type": "execute_result"
    }
   ],
   "source": [
    "df.dtypes"
   ]
  },
  {
   "cell_type": "code",
   "execution_count": 34,
   "id": "9f092e83",
   "metadata": {},
   "outputs": [],
   "source": [
    "from sklearn.impute import SimpleImputer\n",
    "#numeric\n",
    "'''SimpleImputer - класс\n",
    "imputer_mean - экземпляр\n",
    "fit - метод класса'''\n",
    "\n",
    "imputer_mean = SimpleImputer(missing_values=np.nan, strategy='mean')\n",
    "df[['Количество чеков в месяц']] = imputer_mean.fit_transform(df[['Количество чеков в месяц']]).round()\n",
    "df[['Средний чек']] = imputer_mean.fit_transform(df[['Средний чек']]).round()\n",
    "df[['Населення середнє']] = imputer_mean.fit_transform(df[['Населення середнє']]).round()\n",
    "df[['Середній дохід наелення,грн']] = imputer_mean.fit_transform(df[['Середній дохід наелення,грн']]).round()"
   ]
  },
  {
   "cell_type": "code",
   "execution_count": 35,
   "id": "7997b702",
   "metadata": {},
   "outputs": [
    {
     "data": {
      "text/plain": [
       "Успех                                 0\n",
       "Торговельна площа, кв. м.             0\n",
       "Количество сотрудников в магазине     0\n",
       "Тип                                   0\n",
       "Рейтинг в гуглі                       0\n",
       "Количество чеков в месяц              0\n",
       "Средний чек                           0\n",
       "Середній дохід наелення,грн           0\n",
       "Населення середнє                     0\n",
       "Фастфуд                               0\n",
       "Кава на виніс                         0\n",
       "Піцерія                               0\n",
       "Магістральна вулиця                   0\n",
       "Внутрішньоквартальна дорога           0\n",
       "dtype: int64"
      ]
     },
     "execution_count": 35,
     "metadata": {},
     "output_type": "execute_result"
    }
   ],
   "source": [
    "df.isnull().sum()"
   ]
  },
  {
   "cell_type": "code",
   "execution_count": 37,
   "id": "4cc2cdb1",
   "metadata": {},
   "outputs": [],
   "source": [
    "# Function Outliers\n",
    "def outliers(df):\n",
    "    num_var = list(df._get_numeric_data().columns)\n",
    "    for col_names in num_var:\n",
    "        df[col_names] = df[col_names].apply(lambda y: df[col_names].mean()-3*df[col_names].std() \n",
    "                            if y < df[col_names].mean()-3*df[col_names].std() else y)\n",
    "        df[col_names] = df[col_names].apply(lambda y: df[col_names].mean()+3*df[col_names].std() \n",
    "                            if y > df[col_names].mean()+3*df[col_names].std() else y)\n",
    "    return(df)"
   ]
  },
  {
   "cell_type": "code",
   "execution_count": 38,
   "id": "20c5454b",
   "metadata": {},
   "outputs": [
    {
     "data": {
      "text/html": [
       "<div>\n",
       "<style scoped>\n",
       "    .dataframe tbody tr th:only-of-type {\n",
       "        vertical-align: middle;\n",
       "    }\n",
       "\n",
       "    .dataframe tbody tr th {\n",
       "        vertical-align: top;\n",
       "    }\n",
       "\n",
       "    .dataframe thead th {\n",
       "        text-align: right;\n",
       "    }\n",
       "</style>\n",
       "<table border=\"1\" class=\"dataframe\">\n",
       "  <thead>\n",
       "    <tr style=\"text-align: right;\">\n",
       "      <th></th>\n",
       "      <th>Торговельна площа, кв. м.</th>\n",
       "      <th>Количество сотрудников в магазине</th>\n",
       "      <th>Рейтинг в гуглі</th>\n",
       "      <th>Количество чеков в месяц</th>\n",
       "      <th>Средний чек</th>\n",
       "      <th>Середній дохід наелення,грн</th>\n",
       "      <th>Населення середнє</th>\n",
       "      <th>Фастфуд</th>\n",
       "      <th>Кава на виніс</th>\n",
       "      <th>Піцерія</th>\n",
       "      <th>Магістральна вулиця</th>\n",
       "      <th>Внутрішньоквартальна дорога</th>\n",
       "    </tr>\n",
       "  </thead>\n",
       "  <tbody>\n",
       "    <tr>\n",
       "      <th>count</th>\n",
       "      <td>69.000000</td>\n",
       "      <td>69.000000</td>\n",
       "      <td>69.000000</td>\n",
       "      <td>69.000000</td>\n",
       "      <td>69.000000</td>\n",
       "      <td>69.000000</td>\n",
       "      <td>69.000000</td>\n",
       "      <td>69.000000</td>\n",
       "      <td>69.000000</td>\n",
       "      <td>69.000000</td>\n",
       "      <td>69.000000</td>\n",
       "      <td>69.000000</td>\n",
       "    </tr>\n",
       "    <tr>\n",
       "      <th>mean</th>\n",
       "      <td>34.371276</td>\n",
       "      <td>1.869565</td>\n",
       "      <td>3.810145</td>\n",
       "      <td>7097.188406</td>\n",
       "      <td>95.688373</td>\n",
       "      <td>11368.664438</td>\n",
       "      <td>6061.289855</td>\n",
       "      <td>0.202899</td>\n",
       "      <td>0.217391</td>\n",
       "      <td>0.081606</td>\n",
       "      <td>0.449275</td>\n",
       "      <td>0.376812</td>\n",
       "    </tr>\n",
       "    <tr>\n",
       "      <th>std</th>\n",
       "      <td>19.893026</td>\n",
       "      <td>0.838645</td>\n",
       "      <td>0.695605</td>\n",
       "      <td>4049.160557</td>\n",
       "      <td>17.264082</td>\n",
       "      <td>2086.935792</td>\n",
       "      <td>4244.422753</td>\n",
       "      <td>0.405104</td>\n",
       "      <td>0.415493</td>\n",
       "      <td>0.266369</td>\n",
       "      <td>0.501065</td>\n",
       "      <td>0.488137</td>\n",
       "    </tr>\n",
       "    <tr>\n",
       "      <th>min</th>\n",
       "      <td>4.000000</td>\n",
       "      <td>1.000000</td>\n",
       "      <td>1.800000</td>\n",
       "      <td>878.000000</td>\n",
       "      <td>65.000000</td>\n",
       "      <td>4264.846223</td>\n",
       "      <td>0.000000</td>\n",
       "      <td>0.000000</td>\n",
       "      <td>0.000000</td>\n",
       "      <td>0.000000</td>\n",
       "      <td>0.000000</td>\n",
       "      <td>0.000000</td>\n",
       "    </tr>\n",
       "    <tr>\n",
       "      <th>25%</th>\n",
       "      <td>22.000000</td>\n",
       "      <td>1.000000</td>\n",
       "      <td>3.000000</td>\n",
       "      <td>3734.000000</td>\n",
       "      <td>85.000000</td>\n",
       "      <td>10296.000000</td>\n",
       "      <td>1712.000000</td>\n",
       "      <td>0.000000</td>\n",
       "      <td>0.000000</td>\n",
       "      <td>0.000000</td>\n",
       "      <td>0.000000</td>\n",
       "      <td>0.000000</td>\n",
       "    </tr>\n",
       "    <tr>\n",
       "      <th>50%</th>\n",
       "      <td>27.500000</td>\n",
       "      <td>2.000000</td>\n",
       "      <td>4.000000</td>\n",
       "      <td>6810.000000</td>\n",
       "      <td>95.000000</td>\n",
       "      <td>11427.000000</td>\n",
       "      <td>6061.000000</td>\n",
       "      <td>0.000000</td>\n",
       "      <td>0.000000</td>\n",
       "      <td>0.000000</td>\n",
       "      <td>0.000000</td>\n",
       "      <td>0.000000</td>\n",
       "    </tr>\n",
       "    <tr>\n",
       "      <th>75%</th>\n",
       "      <td>41.000000</td>\n",
       "      <td>2.000000</td>\n",
       "      <td>4.300000</td>\n",
       "      <td>8548.000000</td>\n",
       "      <td>101.000000</td>\n",
       "      <td>12948.000000</td>\n",
       "      <td>9213.000000</td>\n",
       "      <td>0.000000</td>\n",
       "      <td>0.000000</td>\n",
       "      <td>0.000000</td>\n",
       "      <td>1.000000</td>\n",
       "      <td>1.000000</td>\n",
       "    </tr>\n",
       "    <tr>\n",
       "      <th>max</th>\n",
       "      <td>99.985025</td>\n",
       "      <td>4.000000</td>\n",
       "      <td>5.000000</td>\n",
       "      <td>17537.000000</td>\n",
       "      <td>150.497709</td>\n",
       "      <td>14937.000000</td>\n",
       "      <td>14157.000000</td>\n",
       "      <td>1.000000</td>\n",
       "      <td>1.000000</td>\n",
       "      <td>0.938463</td>\n",
       "      <td>1.000000</td>\n",
       "      <td>1.000000</td>\n",
       "    </tr>\n",
       "  </tbody>\n",
       "</table>\n",
       "</div>"
      ],
      "text/plain": [
       "       Торговельна площа, кв. м.  Количество сотрудников в магазине   \\\n",
       "count                  69.000000                           69.000000   \n",
       "mean                   34.371276                            1.869565   \n",
       "std                    19.893026                            0.838645   \n",
       "min                     4.000000                            1.000000   \n",
       "25%                    22.000000                            1.000000   \n",
       "50%                    27.500000                            2.000000   \n",
       "75%                    41.000000                            2.000000   \n",
       "max                    99.985025                            4.000000   \n",
       "\n",
       "       Рейтинг в гуглі  Количество чеков в месяц  Средний чек  \\\n",
       "count        69.000000                 69.000000    69.000000   \n",
       "mean          3.810145               7097.188406    95.688373   \n",
       "std           0.695605               4049.160557    17.264082   \n",
       "min           1.800000                878.000000    65.000000   \n",
       "25%           3.000000               3734.000000    85.000000   \n",
       "50%           4.000000               6810.000000    95.000000   \n",
       "75%           4.300000               8548.000000   101.000000   \n",
       "max           5.000000              17537.000000   150.497709   \n",
       "\n",
       "       Середній дохід наелення,грн  Населення середнє    Фастфуд  \\\n",
       "count                    69.000000          69.000000  69.000000   \n",
       "mean                  11368.664438        6061.289855   0.202899   \n",
       "std                    2086.935792        4244.422753   0.405104   \n",
       "min                    4264.846223           0.000000   0.000000   \n",
       "25%                   10296.000000        1712.000000   0.000000   \n",
       "50%                   11427.000000        6061.000000   0.000000   \n",
       "75%                   12948.000000        9213.000000   0.000000   \n",
       "max                   14937.000000       14157.000000   1.000000   \n",
       "\n",
       "       Кава на виніс    Піцерія  Магістральна вулиця  \\\n",
       "count      69.000000  69.000000            69.000000   \n",
       "mean        0.217391   0.081606             0.449275   \n",
       "std         0.415493   0.266369             0.501065   \n",
       "min         0.000000   0.000000             0.000000   \n",
       "25%         0.000000   0.000000             0.000000   \n",
       "50%         0.000000   0.000000             0.000000   \n",
       "75%         0.000000   0.000000             1.000000   \n",
       "max         1.000000   0.938463             1.000000   \n",
       "\n",
       "       Внутрішньоквартальна дорога  \n",
       "count                    69.000000  \n",
       "mean                      0.376812  \n",
       "std                       0.488137  \n",
       "min                       0.000000  \n",
       "25%                       0.000000  \n",
       "50%                       0.000000  \n",
       "75%                       1.000000  \n",
       "max                       1.000000  "
      ]
     },
     "execution_count": 38,
     "metadata": {},
     "output_type": "execute_result"
    }
   ],
   "source": [
    "# Outliers\n",
    "df = outliers(df)\n",
    "df.describe()"
   ]
  },
  {
   "cell_type": "code",
   "execution_count": 39,
   "id": "29621b7c",
   "metadata": {},
   "outputs": [],
   "source": [
    "# Function Encoding\n",
    "def encoding_char(x):\n",
    "    char_var = list(set(x.columns) - set(x._get_numeric_data().columns))\n",
    "    for col_names in char_var:\n",
    "        f = pd.factorize(x[col_names])\n",
    "        x[col_names] = pd.factorize(x[col_names])[0]\n",
    "    return(x)"
   ]
  },
  {
   "cell_type": "code",
   "execution_count": 40,
   "id": "46b0480e",
   "metadata": {},
   "outputs": [
    {
     "data": {
      "text/html": [
       "<div>\n",
       "<style scoped>\n",
       "    .dataframe tbody tr th:only-of-type {\n",
       "        vertical-align: middle;\n",
       "    }\n",
       "\n",
       "    .dataframe tbody tr th {\n",
       "        vertical-align: top;\n",
       "    }\n",
       "\n",
       "    .dataframe thead th {\n",
       "        text-align: right;\n",
       "    }\n",
       "</style>\n",
       "<table border=\"1\" class=\"dataframe\">\n",
       "  <thead>\n",
       "    <tr style=\"text-align: right;\">\n",
       "      <th></th>\n",
       "      <th>Успех</th>\n",
       "      <th>Торговельна площа, кв. м.</th>\n",
       "      <th>Количество сотрудников в магазине</th>\n",
       "      <th>Тип</th>\n",
       "      <th>Рейтинг в гуглі</th>\n",
       "      <th>Количество чеков в месяц</th>\n",
       "      <th>Средний чек</th>\n",
       "      <th>Середній дохід наелення,грн</th>\n",
       "      <th>Населення середнє</th>\n",
       "      <th>Фастфуд</th>\n",
       "      <th>Кава на виніс</th>\n",
       "      <th>Піцерія</th>\n",
       "      <th>Магістральна вулиця</th>\n",
       "      <th>Внутрішньоквартальна дорога</th>\n",
       "    </tr>\n",
       "  </thead>\n",
       "  <tbody>\n",
       "    <tr>\n",
       "      <th>0</th>\n",
       "      <td>0</td>\n",
       "      <td>9.000000</td>\n",
       "      <td>1</td>\n",
       "      <td>0</td>\n",
       "      <td>3.0</td>\n",
       "      <td>1230.0</td>\n",
       "      <td>77.000000</td>\n",
       "      <td>13884.0</td>\n",
       "      <td>3807.0</td>\n",
       "      <td>1</td>\n",
       "      <td>1</td>\n",
       "      <td>0.000000</td>\n",
       "      <td>1</td>\n",
       "      <td>0</td>\n",
       "    </tr>\n",
       "    <tr>\n",
       "      <th>1</th>\n",
       "      <td>0</td>\n",
       "      <td>22.000000</td>\n",
       "      <td>1</td>\n",
       "      <td>0</td>\n",
       "      <td>4.1</td>\n",
       "      <td>2715.0</td>\n",
       "      <td>85.000000</td>\n",
       "      <td>11700.0</td>\n",
       "      <td>9086.0</td>\n",
       "      <td>0</td>\n",
       "      <td>0</td>\n",
       "      <td>0.000000</td>\n",
       "      <td>1</td>\n",
       "      <td>0</td>\n",
       "    </tr>\n",
       "    <tr>\n",
       "      <th>2</th>\n",
       "      <td>0</td>\n",
       "      <td>13.000000</td>\n",
       "      <td>1</td>\n",
       "      <td>0</td>\n",
       "      <td>3.0</td>\n",
       "      <td>878.0</td>\n",
       "      <td>112.000000</td>\n",
       "      <td>6786.0</td>\n",
       "      <td>6383.0</td>\n",
       "      <td>0</td>\n",
       "      <td>0</td>\n",
       "      <td>0.000000</td>\n",
       "      <td>1</td>\n",
       "      <td>0</td>\n",
       "    </tr>\n",
       "    <tr>\n",
       "      <th>3</th>\n",
       "      <td>0</td>\n",
       "      <td>18.000000</td>\n",
       "      <td>1</td>\n",
       "      <td>1</td>\n",
       "      <td>3.0</td>\n",
       "      <td>2346.0</td>\n",
       "      <td>120.000000</td>\n",
       "      <td>12948.0</td>\n",
       "      <td>4.0</td>\n",
       "      <td>1</td>\n",
       "      <td>1</td>\n",
       "      <td>0.938463</td>\n",
       "      <td>1</td>\n",
       "      <td>0</td>\n",
       "    </tr>\n",
       "    <tr>\n",
       "      <th>4</th>\n",
       "      <td>0</td>\n",
       "      <td>25.000000</td>\n",
       "      <td>1</td>\n",
       "      <td>0</td>\n",
       "      <td>4.0</td>\n",
       "      <td>2542.0</td>\n",
       "      <td>95.000000</td>\n",
       "      <td>11427.0</td>\n",
       "      <td>426.0</td>\n",
       "      <td>0</td>\n",
       "      <td>0</td>\n",
       "      <td>0.000000</td>\n",
       "      <td>0</td>\n",
       "      <td>0</td>\n",
       "    </tr>\n",
       "    <tr>\n",
       "      <th>...</th>\n",
       "      <td>...</td>\n",
       "      <td>...</td>\n",
       "      <td>...</td>\n",
       "      <td>...</td>\n",
       "      <td>...</td>\n",
       "      <td>...</td>\n",
       "      <td>...</td>\n",
       "      <td>...</td>\n",
       "      <td>...</td>\n",
       "      <td>...</td>\n",
       "      <td>...</td>\n",
       "      <td>...</td>\n",
       "      <td>...</td>\n",
       "      <td>...</td>\n",
       "    </tr>\n",
       "    <tr>\n",
       "      <th>64</th>\n",
       "      <td>1</td>\n",
       "      <td>40.780000</td>\n",
       "      <td>3</td>\n",
       "      <td>2</td>\n",
       "      <td>4.0</td>\n",
       "      <td>13552.0</td>\n",
       "      <td>107.000000</td>\n",
       "      <td>9399.0</td>\n",
       "      <td>12018.0</td>\n",
       "      <td>0</td>\n",
       "      <td>0</td>\n",
       "      <td>0.000000</td>\n",
       "      <td>1</td>\n",
       "      <td>1</td>\n",
       "    </tr>\n",
       "    <tr>\n",
       "      <th>65</th>\n",
       "      <td>1</td>\n",
       "      <td>21.500000</td>\n",
       "      <td>2</td>\n",
       "      <td>2</td>\n",
       "      <td>2.3</td>\n",
       "      <td>7598.0</td>\n",
       "      <td>89.000000</td>\n",
       "      <td>14079.0</td>\n",
       "      <td>10121.0</td>\n",
       "      <td>0</td>\n",
       "      <td>0</td>\n",
       "      <td>0.000000</td>\n",
       "      <td>0</td>\n",
       "      <td>0</td>\n",
       "    </tr>\n",
       "    <tr>\n",
       "      <th>66</th>\n",
       "      <td>0</td>\n",
       "      <td>99.985025</td>\n",
       "      <td>1</td>\n",
       "      <td>1</td>\n",
       "      <td>3.0</td>\n",
       "      <td>5431.0</td>\n",
       "      <td>106.000000</td>\n",
       "      <td>11427.0</td>\n",
       "      <td>7221.0</td>\n",
       "      <td>0</td>\n",
       "      <td>0</td>\n",
       "      <td>0.000000</td>\n",
       "      <td>1</td>\n",
       "      <td>0</td>\n",
       "    </tr>\n",
       "    <tr>\n",
       "      <th>67</th>\n",
       "      <td>0</td>\n",
       "      <td>34.800000</td>\n",
       "      <td>2</td>\n",
       "      <td>0</td>\n",
       "      <td>4.3</td>\n",
       "      <td>4375.0</td>\n",
       "      <td>150.497709</td>\n",
       "      <td>13338.0</td>\n",
       "      <td>3137.0</td>\n",
       "      <td>0</td>\n",
       "      <td>0</td>\n",
       "      <td>0.000000</td>\n",
       "      <td>0</td>\n",
       "      <td>0</td>\n",
       "    </tr>\n",
       "    <tr>\n",
       "      <th>68</th>\n",
       "      <td>1</td>\n",
       "      <td>22.000000</td>\n",
       "      <td>2</td>\n",
       "      <td>2</td>\n",
       "      <td>4.9</td>\n",
       "      <td>7355.0</td>\n",
       "      <td>102.000000</td>\n",
       "      <td>10296.0</td>\n",
       "      <td>6623.0</td>\n",
       "      <td>0</td>\n",
       "      <td>0</td>\n",
       "      <td>0.000000</td>\n",
       "      <td>0</td>\n",
       "      <td>1</td>\n",
       "    </tr>\n",
       "  </tbody>\n",
       "</table>\n",
       "<p>69 rows × 14 columns</p>\n",
       "</div>"
      ],
      "text/plain": [
       "    Успех  Торговельна площа, кв. м.  Количество сотрудников в магазине   Тип  \\\n",
       "0       0                   9.000000                                   1    0   \n",
       "1       0                  22.000000                                   1    0   \n",
       "2       0                  13.000000                                   1    0   \n",
       "3       0                  18.000000                                   1    1   \n",
       "4       0                  25.000000                                   1    0   \n",
       "..    ...                        ...                                 ...  ...   \n",
       "64      1                  40.780000                                   3    2   \n",
       "65      1                  21.500000                                   2    2   \n",
       "66      0                  99.985025                                   1    1   \n",
       "67      0                  34.800000                                   2    0   \n",
       "68      1                  22.000000                                   2    2   \n",
       "\n",
       "    Рейтинг в гуглі  Количество чеков в месяц  Средний чек  \\\n",
       "0               3.0                    1230.0    77.000000   \n",
       "1               4.1                    2715.0    85.000000   \n",
       "2               3.0                     878.0   112.000000   \n",
       "3               3.0                    2346.0   120.000000   \n",
       "4               4.0                    2542.0    95.000000   \n",
       "..              ...                       ...          ...   \n",
       "64              4.0                   13552.0   107.000000   \n",
       "65              2.3                    7598.0    89.000000   \n",
       "66              3.0                    5431.0   106.000000   \n",
       "67              4.3                    4375.0   150.497709   \n",
       "68              4.9                    7355.0   102.000000   \n",
       "\n",
       "    Середній дохід наелення,грн  Населення середнє  Фастфуд  Кава на виніс  \\\n",
       "0                       13884.0             3807.0        1              1   \n",
       "1                       11700.0             9086.0        0              0   \n",
       "2                        6786.0             6383.0        0              0   \n",
       "3                       12948.0                4.0        1              1   \n",
       "4                       11427.0              426.0        0              0   \n",
       "..                          ...                ...      ...            ...   \n",
       "64                       9399.0            12018.0        0              0   \n",
       "65                      14079.0            10121.0        0              0   \n",
       "66                      11427.0             7221.0        0              0   \n",
       "67                      13338.0             3137.0        0              0   \n",
       "68                      10296.0             6623.0        0              0   \n",
       "\n",
       "     Піцерія  Магістральна вулиця  Внутрішньоквартальна дорога  \n",
       "0   0.000000                    1                            0  \n",
       "1   0.000000                    1                            0  \n",
       "2   0.000000                    1                            0  \n",
       "3   0.938463                    1                            0  \n",
       "4   0.000000                    0                            0  \n",
       "..       ...                  ...                          ...  \n",
       "64  0.000000                    1                            1  \n",
       "65  0.000000                    0                            0  \n",
       "66  0.000000                    1                            0  \n",
       "67  0.000000                    0                            0  \n",
       "68  0.000000                    0                            1  \n",
       "\n",
       "[69 rows x 14 columns]"
      ]
     },
     "execution_count": 40,
     "metadata": {},
     "output_type": "execute_result"
    }
   ],
   "source": [
    "# Encoding categorical data\n",
    "df = encoding_char(df)\n",
    "df"
   ]
  },
  {
   "cell_type": "markdown",
   "id": "0923ffe2",
   "metadata": {},
   "source": [
    "## Сorrelations"
   ]
  },
  {
   "cell_type": "code",
   "execution_count": 41,
   "id": "e1f3d01e",
   "metadata": {},
   "outputs": [
    {
     "data": {
      "image/png": "[encoded data removed]",
      "text/plain": [
       "<Figure size 864x648 with 2 Axes>"
      ]
     },
     "metadata": {
      "needs_background": "light"
     },
     "output_type": "display_data"
    }
   ],
   "source": [
    "# Cheking correlations\n",
    "import seaborn as sns\n",
    "corrmat = df.corr()\n",
    "f, ax = plt.subplots(figsize=(12, 9))\n",
    "sns.heatmap(corrmat, annot=True)\n",
    "plt.show()"
   ]
  },
  {
   "cell_type": "code",
   "execution_count": 42,
   "id": "271a913c",
   "metadata": {},
   "outputs": [],
   "source": [
    "# На \"Успех\" больше всего влияет \"Количество чеков в месяц\" и \"Количество сотрудников в магазине\"."
   ]
  },
  {
   "cell_type": "code",
   "execution_count": 43,
   "id": "8ccf2b0a",
   "metadata": {},
   "outputs": [],
   "source": [
    "# Exporting the dataset\n",
    "df.to_csv('KR2_prep.csv', sep=';', index=False)"
   ]
  },
  {
   "cell_type": "code",
   "execution_count": 44,
   "id": "4524deb4",
   "metadata": {},
   "outputs": [],
   "source": [
    "# Splitting the dataset into the Training set and Test set\n",
    "f = ['Торговельна площа, кв. м.','Количество сотрудников в магазине ','Тип','Рейтинг в гуглі','Количество чеков в месяц','Средний чек','Середній дохід наелення,грн','Населення середнє','Фастфуд','Кава на виніс','Піцерія','Магістральна вулиця','Внутрішньоквартальна дорога']\n",
    "X = df[f]\n",
    "y = df['Успех']\n",
    "from sklearn.model_selection import train_test_split\n",
    "X_train, X_test, y_train, y_test = train_test_split(X, y, test_size=0.2, random_state=10)"
   ]
  },
  {
   "cell_type": "code",
   "execution_count": 45,
   "id": "c0d841b2",
   "metadata": {},
   "outputs": [],
   "source": [
    "from sklearn.preprocessing import StandardScaler\n",
    "sc_X = StandardScaler().fit(X_train)\n",
    "X_train = sc_X.transform(X_train)\n",
    "X_test = sc_X.transform(X_test)"
   ]
  },
  {
   "cell_type": "markdown",
   "id": "5fee8be0",
   "metadata": {},
   "source": [
    "## Feature Selection"
   ]
  },
  {
   "cell_type": "code",
   "execution_count": 47,
   "id": "0e19d0a8",
   "metadata": {},
   "outputs": [],
   "source": [
    "#!pip install statsmodels"
   ]
  },
  {
   "cell_type": "code",
   "execution_count": 64,
   "id": "33075127",
   "metadata": {},
   "outputs": [
    {
     "name": "stdout",
     "output_type": "stream",
     "text": [
      "Warning: Maximum number of iterations has been exceeded.\n",
      "         Current function value: inf\n",
      "         Iterations: 35\n"
     ]
    },
    {
     "name": "stderr",
     "output_type": "stream",
     "text": [
      "C:\\Users\\Gigabyte\\anaconda3\\lib\\site-packages\\statsmodels\\discrete\\discrete_model.py:1810: RuntimeWarning: overflow encountered in exp\n",
      "  return 1/(1+np.exp(-X))\n",
      "C:\\Users\\Gigabyte\\anaconda3\\lib\\site-packages\\statsmodels\\discrete\\discrete_model.py:1863: RuntimeWarning: divide by zero encountered in log\n",
      "  return np.sum(np.log(self.cdf(q*np.dot(X,params))))\n"
     ]
    },
    {
     "ename": "LinAlgError",
     "evalue": "Singular matrix",
     "output_type": "error",
     "traceback": [
      "\u001b[1;31m---------------------------------------------------------------------------\u001b[0m",
      "\u001b[1;31mLinAlgError\u001b[0m                               Traceback (most recent call last)",
      "\u001b[1;32m~\\AppData\\Local\\Temp/ipykernel_10512/2581827126.py\u001b[0m in \u001b[0;36m<module>\u001b[1;34m\u001b[0m\n\u001b[0;32m      1\u001b[0m \u001b[1;31m# Baseline model\u001b[0m\u001b[1;33m\u001b[0m\u001b[1;33m\u001b[0m\u001b[0m\n\u001b[0;32m      2\u001b[0m \u001b[1;32mimport\u001b[0m \u001b[0mstatsmodels\u001b[0m\u001b[1;33m.\u001b[0m\u001b[0mapi\u001b[0m \u001b[1;32mas\u001b[0m \u001b[0msm\u001b[0m\u001b[1;33m\u001b[0m\u001b[1;33m\u001b[0m\u001b[0m\n\u001b[1;32m----> 3\u001b[1;33m \u001b[0mlr\u001b[0m \u001b[1;33m=\u001b[0m \u001b[0msm\u001b[0m\u001b[1;33m.\u001b[0m\u001b[0mLogit\u001b[0m\u001b[1;33m(\u001b[0m\u001b[0my_train\u001b[0m\u001b[1;33m,\u001b[0m \u001b[0mX_train\u001b[0m\u001b[1;33m)\u001b[0m\u001b[1;33m.\u001b[0m\u001b[0mfit\u001b[0m\u001b[1;33m(\u001b[0m\u001b[1;33m)\u001b[0m\u001b[1;33m\u001b[0m\u001b[1;33m\u001b[0m\u001b[0m\n\u001b[0m\u001b[0;32m      4\u001b[0m \u001b[0mprint\u001b[0m\u001b[1;33m(\u001b[0m\u001b[0mlr\u001b[0m\u001b[1;33m.\u001b[0m\u001b[0msummary2\u001b[0m\u001b[1;33m(\u001b[0m\u001b[1;33m)\u001b[0m\u001b[1;33m)\u001b[0m\u001b[1;33m\u001b[0m\u001b[1;33m\u001b[0m\u001b[0m\n",
      "\u001b[1;32m~\\anaconda3\\lib\\site-packages\\statsmodels\\discrete\\discrete_model.py\u001b[0m in \u001b[0;36mfit\u001b[1;34m(self, start_params, method, maxiter, full_output, disp, callback, **kwargs)\u001b[0m\n\u001b[0;32m   1972\u001b[0m     def fit(self, start_params=None, method='newton', maxiter=35,\n\u001b[0;32m   1973\u001b[0m             full_output=1, disp=1, callback=None, **kwargs):\n\u001b[1;32m-> 1974\u001b[1;33m         bnryfit = super().fit(start_params=start_params,\n\u001b[0m\u001b[0;32m   1975\u001b[0m                               \u001b[0mmethod\u001b[0m\u001b[1;33m=\u001b[0m\u001b[0mmethod\u001b[0m\u001b[1;33m,\u001b[0m\u001b[1;33m\u001b[0m\u001b[1;33m\u001b[0m\u001b[0m\n\u001b[0;32m   1976\u001b[0m                               \u001b[0mmaxiter\u001b[0m\u001b[1;33m=\u001b[0m\u001b[0mmaxiter\u001b[0m\u001b[1;33m,\u001b[0m\u001b[1;33m\u001b[0m\u001b[1;33m\u001b[0m\u001b[0m\n",
      "\u001b[1;32m~\\anaconda3\\lib\\site-packages\\statsmodels\\discrete\\discrete_model.py\u001b[0m in \u001b[0;36mfit\u001b[1;34m(self, start_params, method, maxiter, full_output, disp, callback, **kwargs)\u001b[0m\n\u001b[0;32m    225\u001b[0m             \u001b[1;32mpass\u001b[0m  \u001b[1;31m# TODO: make a function factory to have multiple call-backs\u001b[0m\u001b[1;33m\u001b[0m\u001b[1;33m\u001b[0m\u001b[0m\n\u001b[0;32m    226\u001b[0m \u001b[1;33m\u001b[0m\u001b[0m\n\u001b[1;32m--> 227\u001b[1;33m         mlefit = super().fit(start_params=start_params,\n\u001b[0m\u001b[0;32m    228\u001b[0m                              \u001b[0mmethod\u001b[0m\u001b[1;33m=\u001b[0m\u001b[0mmethod\u001b[0m\u001b[1;33m,\u001b[0m\u001b[1;33m\u001b[0m\u001b[1;33m\u001b[0m\u001b[0m\n\u001b[0;32m    229\u001b[0m                              \u001b[0mmaxiter\u001b[0m\u001b[1;33m=\u001b[0m\u001b[0mmaxiter\u001b[0m\u001b[1;33m,\u001b[0m\u001b[1;33m\u001b[0m\u001b[1;33m\u001b[0m\u001b[0m\n",
      "\u001b[1;32m~\\anaconda3\\lib\\site-packages\\statsmodels\\base\\model.py\u001b[0m in \u001b[0;36mfit\u001b[1;34m(self, start_params, method, maxiter, full_output, disp, fargs, callback, retall, skip_hessian, **kwargs)\u001b[0m\n\u001b[0;32m    532\u001b[0m             \u001b[0mHinv\u001b[0m \u001b[1;33m=\u001b[0m \u001b[0mcov_params_func\u001b[0m\u001b[1;33m(\u001b[0m\u001b[0mself\u001b[0m\u001b[1;33m,\u001b[0m \u001b[0mxopt\u001b[0m\u001b[1;33m,\u001b[0m \u001b[0mretvals\u001b[0m\u001b[1;33m)\u001b[0m\u001b[1;33m\u001b[0m\u001b[1;33m\u001b[0m\u001b[0m\n\u001b[0;32m    533\u001b[0m         \u001b[1;32melif\u001b[0m \u001b[0mmethod\u001b[0m \u001b[1;33m==\u001b[0m \u001b[1;34m'newton'\u001b[0m \u001b[1;32mand\u001b[0m \u001b[0mfull_output\u001b[0m\u001b[1;33m:\u001b[0m\u001b[1;33m\u001b[0m\u001b[1;33m\u001b[0m\u001b[0m\n\u001b[1;32m--> 534\u001b[1;33m             \u001b[0mHinv\u001b[0m \u001b[1;33m=\u001b[0m \u001b[0mnp\u001b[0m\u001b[1;33m.\u001b[0m\u001b[0mlinalg\u001b[0m\u001b[1;33m.\u001b[0m\u001b[0minv\u001b[0m\u001b[1;33m(\u001b[0m\u001b[1;33m-\u001b[0m\u001b[0mretvals\u001b[0m\u001b[1;33m[\u001b[0m\u001b[1;34m'Hessian'\u001b[0m\u001b[1;33m]\u001b[0m\u001b[1;33m)\u001b[0m \u001b[1;33m/\u001b[0m \u001b[0mnobs\u001b[0m\u001b[1;33m\u001b[0m\u001b[1;33m\u001b[0m\u001b[0m\n\u001b[0m\u001b[0;32m    535\u001b[0m         \u001b[1;32melif\u001b[0m \u001b[1;32mnot\u001b[0m \u001b[0mskip_hessian\u001b[0m\u001b[1;33m:\u001b[0m\u001b[1;33m\u001b[0m\u001b[1;33m\u001b[0m\u001b[0m\n\u001b[0;32m    536\u001b[0m             \u001b[0mH\u001b[0m \u001b[1;33m=\u001b[0m \u001b[1;33m-\u001b[0m\u001b[1;36m1\u001b[0m \u001b[1;33m*\u001b[0m \u001b[0mself\u001b[0m\u001b[1;33m.\u001b[0m\u001b[0mhessian\u001b[0m\u001b[1;33m(\u001b[0m\u001b[0mxopt\u001b[0m\u001b[1;33m)\u001b[0m\u001b[1;33m\u001b[0m\u001b[1;33m\u001b[0m\u001b[0m\n",
      "\u001b[1;32m<__array_function__ internals>\u001b[0m in \u001b[0;36minv\u001b[1;34m(*args, **kwargs)\u001b[0m\n",
      "\u001b[1;32m~\\anaconda3\\lib\\site-packages\\numpy\\linalg\\linalg.py\u001b[0m in \u001b[0;36minv\u001b[1;34m(a)\u001b[0m\n\u001b[0;32m    543\u001b[0m     \u001b[0msignature\u001b[0m \u001b[1;33m=\u001b[0m \u001b[1;34m'D->D'\u001b[0m \u001b[1;32mif\u001b[0m \u001b[0misComplexType\u001b[0m\u001b[1;33m(\u001b[0m\u001b[0mt\u001b[0m\u001b[1;33m)\u001b[0m \u001b[1;32melse\u001b[0m \u001b[1;34m'd->d'\u001b[0m\u001b[1;33m\u001b[0m\u001b[1;33m\u001b[0m\u001b[0m\n\u001b[0;32m    544\u001b[0m     \u001b[0mextobj\u001b[0m \u001b[1;33m=\u001b[0m \u001b[0mget_linalg_error_extobj\u001b[0m\u001b[1;33m(\u001b[0m\u001b[0m_raise_linalgerror_singular\u001b[0m\u001b[1;33m)\u001b[0m\u001b[1;33m\u001b[0m\u001b[1;33m\u001b[0m\u001b[0m\n\u001b[1;32m--> 545\u001b[1;33m     \u001b[0mainv\u001b[0m \u001b[1;33m=\u001b[0m \u001b[0m_umath_linalg\u001b[0m\u001b[1;33m.\u001b[0m\u001b[0minv\u001b[0m\u001b[1;33m(\u001b[0m\u001b[0ma\u001b[0m\u001b[1;33m,\u001b[0m \u001b[0msignature\u001b[0m\u001b[1;33m=\u001b[0m\u001b[0msignature\u001b[0m\u001b[1;33m,\u001b[0m \u001b[0mextobj\u001b[0m\u001b[1;33m=\u001b[0m\u001b[0mextobj\u001b[0m\u001b[1;33m)\u001b[0m\u001b[1;33m\u001b[0m\u001b[1;33m\u001b[0m\u001b[0m\n\u001b[0m\u001b[0;32m    546\u001b[0m     \u001b[1;32mreturn\u001b[0m \u001b[0mwrap\u001b[0m\u001b[1;33m(\u001b[0m\u001b[0mainv\u001b[0m\u001b[1;33m.\u001b[0m\u001b[0mastype\u001b[0m\u001b[1;33m(\u001b[0m\u001b[0mresult_t\u001b[0m\u001b[1;33m,\u001b[0m \u001b[0mcopy\u001b[0m\u001b[1;33m=\u001b[0m\u001b[1;32mFalse\u001b[0m\u001b[1;33m)\u001b[0m\u001b[1;33m)\u001b[0m\u001b[1;33m\u001b[0m\u001b[1;33m\u001b[0m\u001b[0m\n\u001b[0;32m    547\u001b[0m \u001b[1;33m\u001b[0m\u001b[0m\n",
      "\u001b[1;32m~\\anaconda3\\lib\\site-packages\\numpy\\linalg\\linalg.py\u001b[0m in \u001b[0;36m_raise_linalgerror_singular\u001b[1;34m(err, flag)\u001b[0m\n\u001b[0;32m     86\u001b[0m \u001b[1;33m\u001b[0m\u001b[0m\n\u001b[0;32m     87\u001b[0m \u001b[1;32mdef\u001b[0m \u001b[0m_raise_linalgerror_singular\u001b[0m\u001b[1;33m(\u001b[0m\u001b[0merr\u001b[0m\u001b[1;33m,\u001b[0m \u001b[0mflag\u001b[0m\u001b[1;33m)\u001b[0m\u001b[1;33m:\u001b[0m\u001b[1;33m\u001b[0m\u001b[1;33m\u001b[0m\u001b[0m\n\u001b[1;32m---> 88\u001b[1;33m     \u001b[1;32mraise\u001b[0m \u001b[0mLinAlgError\u001b[0m\u001b[1;33m(\u001b[0m\u001b[1;34m\"Singular matrix\"\u001b[0m\u001b[1;33m)\u001b[0m\u001b[1;33m\u001b[0m\u001b[1;33m\u001b[0m\u001b[0m\n\u001b[0m\u001b[0;32m     89\u001b[0m \u001b[1;33m\u001b[0m\u001b[0m\n\u001b[0;32m     90\u001b[0m \u001b[1;32mdef\u001b[0m \u001b[0m_raise_linalgerror_nonposdef\u001b[0m\u001b[1;33m(\u001b[0m\u001b[0merr\u001b[0m\u001b[1;33m,\u001b[0m \u001b[0mflag\u001b[0m\u001b[1;33m)\u001b[0m\u001b[1;33m:\u001b[0m\u001b[1;33m\u001b[0m\u001b[1;33m\u001b[0m\u001b[0m\n",
      "\u001b[1;31mLinAlgError\u001b[0m: Singular matrix"
     ]
    }
   ],
   "source": [
    "# Baseline model\n",
    "import statsmodels.api as sm\n",
    "lr = sm.Logit(y_train, X_train).fit()\n",
    "print(lr.summary2())"
   ]
  },
  {
   "cell_type": "code",
   "execution_count": 65,
   "id": "de2d993c",
   "metadata": {},
   "outputs": [
    {
     "name": "stdout",
     "output_type": "stream",
     "text": [
      "1\n",
      "[False False False False  True False False False False False False False\n",
      " False]\n",
      "[ 8  2  6  7  1 12  3  9 11 13  5 10  4]\n"
     ]
    }
   ],
   "source": [
    "# Automatic Feature Selection\n",
    "from sklearn.feature_selection import RFECV\n",
    "from sklearn.linear_model import LogisticRegression\n",
    "estimator=LogisticRegression()\n",
    "selector=RFECV(estimator, step=1)\n",
    "selector=selector.fit(X_train, y_train)\n",
    "print(selector.n_features_)\n",
    "print(selector.support_)\n",
    "print(selector.ranking_)"
   ]
  },
  {
   "cell_type": "code",
   "execution_count": 66,
   "id": "5f0de3b3",
   "metadata": {},
   "outputs": [],
   "source": [
    "# Leaving only Selected Features\n",
    "X_train_select=X_train[:,[False,False,False,False,True,False,False,False,False,False,False,False,False]]\n",
    "X_test_select=X_test[:,[False,False,False,False,True,False,False,False,False,False,False,False,False]]"
   ]
  },
  {
   "cell_type": "code",
   "execution_count": 67,
   "id": "a92ec2e2",
   "metadata": {},
   "outputs": [],
   "source": [
    "col = ['Количество сотрудников в магазине','Количество чеков в месяц']"
   ]
  },
  {
   "cell_type": "markdown",
   "id": "25d5335a",
   "metadata": {},
   "source": [
    "# Hierarchical Clustering"
   ]
  },
  {
   "cell_type": "code",
   "execution_count": 72,
   "id": "c4da4425",
   "metadata": {},
   "outputs": [
    {
     "data": {
      "text/html": [
       "<div>\n",
       "<style scoped>\n",
       "    .dataframe tbody tr th:only-of-type {\n",
       "        vertical-align: middle;\n",
       "    }\n",
       "\n",
       "    .dataframe tbody tr th {\n",
       "        vertical-align: top;\n",
       "    }\n",
       "\n",
       "    .dataframe thead th {\n",
       "        text-align: right;\n",
       "    }\n",
       "</style>\n",
       "<table border=\"1\" class=\"dataframe\">\n",
       "  <thead>\n",
       "    <tr style=\"text-align: right;\">\n",
       "      <th></th>\n",
       "      <th>Успех</th>\n",
       "      <th>Торговельна площа, кв. м.</th>\n",
       "      <th>Количество сотрудников в магазине</th>\n",
       "      <th>Тип</th>\n",
       "      <th>Рейтинг в гуглі</th>\n",
       "      <th>Количество чеков в месяц</th>\n",
       "      <th>Средний чек</th>\n",
       "      <th>Середній дохід наелення,грн</th>\n",
       "      <th>Населення середнє</th>\n",
       "      <th>Фастфуд</th>\n",
       "      <th>Кава на виніс</th>\n",
       "      <th>Піцерія</th>\n",
       "      <th>Магістральна вулиця</th>\n",
       "      <th>Внутрішньоквартальна дорога</th>\n",
       "    </tr>\n",
       "  </thead>\n",
       "  <tbody>\n",
       "    <tr>\n",
       "      <th>0</th>\n",
       "      <td>0</td>\n",
       "      <td>9.000000</td>\n",
       "      <td>1</td>\n",
       "      <td>0</td>\n",
       "      <td>3.0</td>\n",
       "      <td>1230.0</td>\n",
       "      <td>77.000000</td>\n",
       "      <td>13884.0</td>\n",
       "      <td>3807.0</td>\n",
       "      <td>1</td>\n",
       "      <td>1</td>\n",
       "      <td>0.000000</td>\n",
       "      <td>1</td>\n",
       "      <td>0</td>\n",
       "    </tr>\n",
       "    <tr>\n",
       "      <th>1</th>\n",
       "      <td>0</td>\n",
       "      <td>22.000000</td>\n",
       "      <td>1</td>\n",
       "      <td>0</td>\n",
       "      <td>4.1</td>\n",
       "      <td>2715.0</td>\n",
       "      <td>85.000000</td>\n",
       "      <td>11700.0</td>\n",
       "      <td>9086.0</td>\n",
       "      <td>0</td>\n",
       "      <td>0</td>\n",
       "      <td>0.000000</td>\n",
       "      <td>1</td>\n",
       "      <td>0</td>\n",
       "    </tr>\n",
       "    <tr>\n",
       "      <th>2</th>\n",
       "      <td>0</td>\n",
       "      <td>13.000000</td>\n",
       "      <td>1</td>\n",
       "      <td>0</td>\n",
       "      <td>3.0</td>\n",
       "      <td>878.0</td>\n",
       "      <td>112.000000</td>\n",
       "      <td>6786.0</td>\n",
       "      <td>6383.0</td>\n",
       "      <td>0</td>\n",
       "      <td>0</td>\n",
       "      <td>0.000000</td>\n",
       "      <td>1</td>\n",
       "      <td>0</td>\n",
       "    </tr>\n",
       "    <tr>\n",
       "      <th>3</th>\n",
       "      <td>0</td>\n",
       "      <td>18.000000</td>\n",
       "      <td>1</td>\n",
       "      <td>1</td>\n",
       "      <td>3.0</td>\n",
       "      <td>2346.0</td>\n",
       "      <td>120.000000</td>\n",
       "      <td>12948.0</td>\n",
       "      <td>4.0</td>\n",
       "      <td>1</td>\n",
       "      <td>1</td>\n",
       "      <td>0.938463</td>\n",
       "      <td>1</td>\n",
       "      <td>0</td>\n",
       "    </tr>\n",
       "    <tr>\n",
       "      <th>4</th>\n",
       "      <td>0</td>\n",
       "      <td>25.000000</td>\n",
       "      <td>1</td>\n",
       "      <td>0</td>\n",
       "      <td>4.0</td>\n",
       "      <td>2542.0</td>\n",
       "      <td>95.000000</td>\n",
       "      <td>11427.0</td>\n",
       "      <td>426.0</td>\n",
       "      <td>0</td>\n",
       "      <td>0</td>\n",
       "      <td>0.000000</td>\n",
       "      <td>0</td>\n",
       "      <td>0</td>\n",
       "    </tr>\n",
       "    <tr>\n",
       "      <th>...</th>\n",
       "      <td>...</td>\n",
       "      <td>...</td>\n",
       "      <td>...</td>\n",
       "      <td>...</td>\n",
       "      <td>...</td>\n",
       "      <td>...</td>\n",
       "      <td>...</td>\n",
       "      <td>...</td>\n",
       "      <td>...</td>\n",
       "      <td>...</td>\n",
       "      <td>...</td>\n",
       "      <td>...</td>\n",
       "      <td>...</td>\n",
       "      <td>...</td>\n",
       "    </tr>\n",
       "    <tr>\n",
       "      <th>64</th>\n",
       "      <td>1</td>\n",
       "      <td>40.780000</td>\n",
       "      <td>3</td>\n",
       "      <td>2</td>\n",
       "      <td>4.0</td>\n",
       "      <td>13552.0</td>\n",
       "      <td>107.000000</td>\n",
       "      <td>9399.0</td>\n",
       "      <td>12018.0</td>\n",
       "      <td>0</td>\n",
       "      <td>0</td>\n",
       "      <td>0.000000</td>\n",
       "      <td>1</td>\n",
       "      <td>1</td>\n",
       "    </tr>\n",
       "    <tr>\n",
       "      <th>65</th>\n",
       "      <td>1</td>\n",
       "      <td>21.500000</td>\n",
       "      <td>2</td>\n",
       "      <td>2</td>\n",
       "      <td>2.3</td>\n",
       "      <td>7598.0</td>\n",
       "      <td>89.000000</td>\n",
       "      <td>14079.0</td>\n",
       "      <td>10121.0</td>\n",
       "      <td>0</td>\n",
       "      <td>0</td>\n",
       "      <td>0.000000</td>\n",
       "      <td>0</td>\n",
       "      <td>0</td>\n",
       "    </tr>\n",
       "    <tr>\n",
       "      <th>66</th>\n",
       "      <td>0</td>\n",
       "      <td>99.985025</td>\n",
       "      <td>1</td>\n",
       "      <td>1</td>\n",
       "      <td>3.0</td>\n",
       "      <td>5431.0</td>\n",
       "      <td>106.000000</td>\n",
       "      <td>11427.0</td>\n",
       "      <td>7221.0</td>\n",
       "      <td>0</td>\n",
       "      <td>0</td>\n",
       "      <td>0.000000</td>\n",
       "      <td>1</td>\n",
       "      <td>0</td>\n",
       "    </tr>\n",
       "    <tr>\n",
       "      <th>67</th>\n",
       "      <td>0</td>\n",
       "      <td>34.800000</td>\n",
       "      <td>2</td>\n",
       "      <td>0</td>\n",
       "      <td>4.3</td>\n",
       "      <td>4375.0</td>\n",
       "      <td>150.497709</td>\n",
       "      <td>13338.0</td>\n",
       "      <td>3137.0</td>\n",
       "      <td>0</td>\n",
       "      <td>0</td>\n",
       "      <td>0.000000</td>\n",
       "      <td>0</td>\n",
       "      <td>0</td>\n",
       "    </tr>\n",
       "    <tr>\n",
       "      <th>68</th>\n",
       "      <td>1</td>\n",
       "      <td>22.000000</td>\n",
       "      <td>2</td>\n",
       "      <td>2</td>\n",
       "      <td>4.9</td>\n",
       "      <td>7355.0</td>\n",
       "      <td>102.000000</td>\n",
       "      <td>10296.0</td>\n",
       "      <td>6623.0</td>\n",
       "      <td>0</td>\n",
       "      <td>0</td>\n",
       "      <td>0.000000</td>\n",
       "      <td>0</td>\n",
       "      <td>1</td>\n",
       "    </tr>\n",
       "  </tbody>\n",
       "</table>\n",
       "<p>69 rows × 14 columns</p>\n",
       "</div>"
      ],
      "text/plain": [
       "    Успех  Торговельна площа, кв. м.  Количество сотрудников в магазине   Тип  \\\n",
       "0       0                   9.000000                                   1    0   \n",
       "1       0                  22.000000                                   1    0   \n",
       "2       0                  13.000000                                   1    0   \n",
       "3       0                  18.000000                                   1    1   \n",
       "4       0                  25.000000                                   1    0   \n",
       "..    ...                        ...                                 ...  ...   \n",
       "64      1                  40.780000                                   3    2   \n",
       "65      1                  21.500000                                   2    2   \n",
       "66      0                  99.985025                                   1    1   \n",
       "67      0                  34.800000                                   2    0   \n",
       "68      1                  22.000000                                   2    2   \n",
       "\n",
       "    Рейтинг в гуглі  Количество чеков в месяц  Средний чек  \\\n",
       "0               3.0                    1230.0    77.000000   \n",
       "1               4.1                    2715.0    85.000000   \n",
       "2               3.0                     878.0   112.000000   \n",
       "3               3.0                    2346.0   120.000000   \n",
       "4               4.0                    2542.0    95.000000   \n",
       "..              ...                       ...          ...   \n",
       "64              4.0                   13552.0   107.000000   \n",
       "65              2.3                    7598.0    89.000000   \n",
       "66              3.0                    5431.0   106.000000   \n",
       "67              4.3                    4375.0   150.497709   \n",
       "68              4.9                    7355.0   102.000000   \n",
       "\n",
       "    Середній дохід наелення,грн  Населення середнє  Фастфуд  Кава на виніс  \\\n",
       "0                       13884.0             3807.0        1              1   \n",
       "1                       11700.0             9086.0        0              0   \n",
       "2                        6786.0             6383.0        0              0   \n",
       "3                       12948.0                4.0        1              1   \n",
       "4                       11427.0              426.0        0              0   \n",
       "..                          ...                ...      ...            ...   \n",
       "64                       9399.0            12018.0        0              0   \n",
       "65                      14079.0            10121.0        0              0   \n",
       "66                      11427.0             7221.0        0              0   \n",
       "67                      13338.0             3137.0        0              0   \n",
       "68                      10296.0             6623.0        0              0   \n",
       "\n",
       "     Піцерія  Магістральна вулиця  Внутрішньоквартальна дорога  \n",
       "0   0.000000                    1                            0  \n",
       "1   0.000000                    1                            0  \n",
       "2   0.000000                    1                            0  \n",
       "3   0.938463                    1                            0  \n",
       "4   0.000000                    0                            0  \n",
       "..       ...                  ...                          ...  \n",
       "64  0.000000                    1                            1  \n",
       "65  0.000000                    0                            0  \n",
       "66  0.000000                    1                            0  \n",
       "67  0.000000                    0                            0  \n",
       "68  0.000000                    0                            1  \n",
       "\n",
       "[69 rows x 14 columns]"
      ]
     },
     "execution_count": 72,
     "metadata": {},
     "output_type": "execute_result"
    }
   ],
   "source": [
    "df = pd.read_csv('KR2_prep.csv', sep=';')\n",
    "df"
   ]
  },
  {
   "cell_type": "code",
   "execution_count": 73,
   "id": "f1740f61",
   "metadata": {},
   "outputs": [
    {
     "data": {
      "text/html": [
       "<div>\n",
       "<style scoped>\n",
       "    .dataframe tbody tr th:only-of-type {\n",
       "        vertical-align: middle;\n",
       "    }\n",
       "\n",
       "    .dataframe tbody tr th {\n",
       "        vertical-align: top;\n",
       "    }\n",
       "\n",
       "    .dataframe thead th {\n",
       "        text-align: right;\n",
       "    }\n",
       "</style>\n",
       "<table border=\"1\" class=\"dataframe\">\n",
       "  <thead>\n",
       "    <tr style=\"text-align: right;\">\n",
       "      <th></th>\n",
       "      <th>Успех</th>\n",
       "      <th>Торговельна площа, кв. м.</th>\n",
       "      <th>Количество сотрудников в магазине</th>\n",
       "      <th>Тип</th>\n",
       "      <th>Рейтинг в гуглі</th>\n",
       "      <th>Количество чеков в месяц</th>\n",
       "      <th>Средний чек</th>\n",
       "      <th>Середній дохід наелення,грн</th>\n",
       "      <th>Населення середнє</th>\n",
       "      <th>Фастфуд</th>\n",
       "      <th>Кава на виніс</th>\n",
       "      <th>Піцерія</th>\n",
       "      <th>Магістральна вулиця</th>\n",
       "      <th>Внутрішньоквартальна дорога</th>\n",
       "    </tr>\n",
       "  </thead>\n",
       "  <tbody>\n",
       "    <tr>\n",
       "      <th>count</th>\n",
       "      <td>69.000000</td>\n",
       "      <td>69.000000</td>\n",
       "      <td>69.000000</td>\n",
       "      <td>69.000000</td>\n",
       "      <td>69.000000</td>\n",
       "      <td>69.000000</td>\n",
       "      <td>69.000000</td>\n",
       "      <td>69.000000</td>\n",
       "      <td>69.000000</td>\n",
       "      <td>69.000000</td>\n",
       "      <td>69.000000</td>\n",
       "      <td>69.000000</td>\n",
       "      <td>69.000000</td>\n",
       "      <td>69.000000</td>\n",
       "    </tr>\n",
       "    <tr>\n",
       "      <th>mean</th>\n",
       "      <td>0.362319</td>\n",
       "      <td>34.371276</td>\n",
       "      <td>1.869565</td>\n",
       "      <td>1.275362</td>\n",
       "      <td>3.810145</td>\n",
       "      <td>7097.188406</td>\n",
       "      <td>95.688373</td>\n",
       "      <td>11368.664438</td>\n",
       "      <td>6061.289855</td>\n",
       "      <td>0.202899</td>\n",
       "      <td>0.217391</td>\n",
       "      <td>0.081606</td>\n",
       "      <td>0.449275</td>\n",
       "      <td>0.376812</td>\n",
       "    </tr>\n",
       "    <tr>\n",
       "      <th>std</th>\n",
       "      <td>0.484192</td>\n",
       "      <td>19.893026</td>\n",
       "      <td>0.838645</td>\n",
       "      <td>0.968383</td>\n",
       "      <td>0.695605</td>\n",
       "      <td>4049.160557</td>\n",
       "      <td>17.264082</td>\n",
       "      <td>2086.935792</td>\n",
       "      <td>4244.422753</td>\n",
       "      <td>0.405104</td>\n",
       "      <td>0.415493</td>\n",
       "      <td>0.266369</td>\n",
       "      <td>0.501065</td>\n",
       "      <td>0.488137</td>\n",
       "    </tr>\n",
       "    <tr>\n",
       "      <th>min</th>\n",
       "      <td>0.000000</td>\n",
       "      <td>4.000000</td>\n",
       "      <td>1.000000</td>\n",
       "      <td>0.000000</td>\n",
       "      <td>1.800000</td>\n",
       "      <td>878.000000</td>\n",
       "      <td>65.000000</td>\n",
       "      <td>4264.846223</td>\n",
       "      <td>0.000000</td>\n",
       "      <td>0.000000</td>\n",
       "      <td>0.000000</td>\n",
       "      <td>0.000000</td>\n",
       "      <td>0.000000</td>\n",
       "      <td>0.000000</td>\n",
       "    </tr>\n",
       "    <tr>\n",
       "      <th>25%</th>\n",
       "      <td>0.000000</td>\n",
       "      <td>22.000000</td>\n",
       "      <td>1.000000</td>\n",
       "      <td>0.000000</td>\n",
       "      <td>3.000000</td>\n",
       "      <td>3734.000000</td>\n",
       "      <td>85.000000</td>\n",
       "      <td>10296.000000</td>\n",
       "      <td>1712.000000</td>\n",
       "      <td>0.000000</td>\n",
       "      <td>0.000000</td>\n",
       "      <td>0.000000</td>\n",
       "      <td>0.000000</td>\n",
       "      <td>0.000000</td>\n",
       "    </tr>\n",
       "    <tr>\n",
       "      <th>50%</th>\n",
       "      <td>0.000000</td>\n",
       "      <td>27.500000</td>\n",
       "      <td>2.000000</td>\n",
       "      <td>1.000000</td>\n",
       "      <td>4.000000</td>\n",
       "      <td>6810.000000</td>\n",
       "      <td>95.000000</td>\n",
       "      <td>11427.000000</td>\n",
       "      <td>6061.000000</td>\n",
       "      <td>0.000000</td>\n",
       "      <td>0.000000</td>\n",
       "      <td>0.000000</td>\n",
       "      <td>0.000000</td>\n",
       "      <td>0.000000</td>\n",
       "    </tr>\n",
       "    <tr>\n",
       "      <th>75%</th>\n",
       "      <td>1.000000</td>\n",
       "      <td>41.000000</td>\n",
       "      <td>2.000000</td>\n",
       "      <td>2.000000</td>\n",
       "      <td>4.300000</td>\n",
       "      <td>8548.000000</td>\n",
       "      <td>101.000000</td>\n",
       "      <td>12948.000000</td>\n",
       "      <td>9213.000000</td>\n",
       "      <td>0.000000</td>\n",
       "      <td>0.000000</td>\n",
       "      <td>0.000000</td>\n",
       "      <td>1.000000</td>\n",
       "      <td>1.000000</td>\n",
       "    </tr>\n",
       "    <tr>\n",
       "      <th>max</th>\n",
       "      <td>1.000000</td>\n",
       "      <td>99.985025</td>\n",
       "      <td>4.000000</td>\n",
       "      <td>4.000000</td>\n",
       "      <td>5.000000</td>\n",
       "      <td>17537.000000</td>\n",
       "      <td>150.497709</td>\n",
       "      <td>14937.000000</td>\n",
       "      <td>14157.000000</td>\n",
       "      <td>1.000000</td>\n",
       "      <td>1.000000</td>\n",
       "      <td>0.938463</td>\n",
       "      <td>1.000000</td>\n",
       "      <td>1.000000</td>\n",
       "    </tr>\n",
       "  </tbody>\n",
       "</table>\n",
       "</div>"
      ],
      "text/plain": [
       "           Успех  Торговельна площа, кв. м.  \\\n",
       "count  69.000000                  69.000000   \n",
       "mean    0.362319                  34.371276   \n",
       "std     0.484192                  19.893026   \n",
       "min     0.000000                   4.000000   \n",
       "25%     0.000000                  22.000000   \n",
       "50%     0.000000                  27.500000   \n",
       "75%     1.000000                  41.000000   \n",
       "max     1.000000                  99.985025   \n",
       "\n",
       "       Количество сотрудников в магазине         Тип  Рейтинг в гуглі  \\\n",
       "count                           69.000000  69.000000        69.000000   \n",
       "mean                             1.869565   1.275362         3.810145   \n",
       "std                              0.838645   0.968383         0.695605   \n",
       "min                              1.000000   0.000000         1.800000   \n",
       "25%                              1.000000   0.000000         3.000000   \n",
       "50%                              2.000000   1.000000         4.000000   \n",
       "75%                              2.000000   2.000000         4.300000   \n",
       "max                              4.000000   4.000000         5.000000   \n",
       "\n",
       "       Количество чеков в месяц  Средний чек  Середній дохід наелення,грн  \\\n",
       "count                 69.000000    69.000000                    69.000000   \n",
       "mean                7097.188406    95.688373                 11368.664438   \n",
       "std                 4049.160557    17.264082                  2086.935792   \n",
       "min                  878.000000    65.000000                  4264.846223   \n",
       "25%                 3734.000000    85.000000                 10296.000000   \n",
       "50%                 6810.000000    95.000000                 11427.000000   \n",
       "75%                 8548.000000   101.000000                 12948.000000   \n",
       "max                17537.000000   150.497709                 14937.000000   \n",
       "\n",
       "       Населення середнє    Фастфуд  Кава на виніс    Піцерія  \\\n",
       "count          69.000000  69.000000      69.000000  69.000000   \n",
       "mean         6061.289855   0.202899       0.217391   0.081606   \n",
       "std          4244.422753   0.405104       0.415493   0.266369   \n",
       "min             0.000000   0.000000       0.000000   0.000000   \n",
       "25%          1712.000000   0.000000       0.000000   0.000000   \n",
       "50%          6061.000000   0.000000       0.000000   0.000000   \n",
       "75%          9213.000000   0.000000       0.000000   0.000000   \n",
       "max         14157.000000   1.000000       1.000000   0.938463   \n",
       "\n",
       "       Магістральна вулиця  Внутрішньоквартальна дорога  \n",
       "count            69.000000                    69.000000  \n",
       "mean              0.449275                     0.376812  \n",
       "std               0.501065                     0.488137  \n",
       "min               0.000000                     0.000000  \n",
       "25%               0.000000                     0.000000  \n",
       "50%               0.000000                     0.000000  \n",
       "75%               1.000000                     1.000000  \n",
       "max               1.000000                     1.000000  "
      ]
     },
     "execution_count": 73,
     "metadata": {},
     "output_type": "execute_result"
    }
   ],
   "source": [
    "df.describe()"
   ]
  },
  {
   "cell_type": "code",
   "execution_count": 74,
   "id": "cc57787b",
   "metadata": {},
   "outputs": [],
   "source": [
    "# Feature Scaling\n",
    "from sklearn.preprocessing import MinMaxScaler\n",
    "sc = MinMaxScaler().fit(df)\n",
    "df = sc.transform(df)\n",
    "df = pd.DataFrame(df, columns = ['Успех','Торговельна площа, кв. м.','Количество сотрудников в магазине ','Тип','Рейтинг в гуглі','Количество чеков в месяц','Средний чек','Середній дохід наелення,грн','Населення середнє','Фастфуд','Кава на виніс','Піцерія','Магістральна вулиця','Внутрішньоквартальна дорога']).round()"
   ]
  },
  {
   "cell_type": "code",
   "execution_count": 75,
   "id": "77255802",
   "metadata": {},
   "outputs": [
    {
     "data": {
      "text/html": [
       "<div>\n",
       "<style scoped>\n",
       "    .dataframe tbody tr th:only-of-type {\n",
       "        vertical-align: middle;\n",
       "    }\n",
       "\n",
       "    .dataframe tbody tr th {\n",
       "        vertical-align: top;\n",
       "    }\n",
       "\n",
       "    .dataframe thead th {\n",
       "        text-align: right;\n",
       "    }\n",
       "</style>\n",
       "<table border=\"1\" class=\"dataframe\">\n",
       "  <thead>\n",
       "    <tr style=\"text-align: right;\">\n",
       "      <th></th>\n",
       "      <th>Успех</th>\n",
       "      <th>Торговельна площа, кв. м.</th>\n",
       "      <th>Количество сотрудников в магазине</th>\n",
       "      <th>Тип</th>\n",
       "      <th>Рейтинг в гуглі</th>\n",
       "      <th>Количество чеков в месяц</th>\n",
       "      <th>Средний чек</th>\n",
       "      <th>Середній дохід наелення,грн</th>\n",
       "      <th>Населення середнє</th>\n",
       "      <th>Фастфуд</th>\n",
       "      <th>Кава на виніс</th>\n",
       "      <th>Піцерія</th>\n",
       "      <th>Магістральна вулиця</th>\n",
       "      <th>Внутрішньоквартальна дорога</th>\n",
       "    </tr>\n",
       "  </thead>\n",
       "  <tbody>\n",
       "    <tr>\n",
       "      <th>0</th>\n",
       "      <td>0.0</td>\n",
       "      <td>0.0</td>\n",
       "      <td>0.0</td>\n",
       "      <td>0.0</td>\n",
       "      <td>0.0</td>\n",
       "      <td>0.0</td>\n",
       "      <td>0.0</td>\n",
       "      <td>1.0</td>\n",
       "      <td>0.0</td>\n",
       "      <td>1.0</td>\n",
       "      <td>1.0</td>\n",
       "      <td>0.0</td>\n",
       "      <td>1.0</td>\n",
       "      <td>0.0</td>\n",
       "    </tr>\n",
       "    <tr>\n",
       "      <th>1</th>\n",
       "      <td>0.0</td>\n",
       "      <td>0.0</td>\n",
       "      <td>0.0</td>\n",
       "      <td>0.0</td>\n",
       "      <td>1.0</td>\n",
       "      <td>0.0</td>\n",
       "      <td>0.0</td>\n",
       "      <td>1.0</td>\n",
       "      <td>1.0</td>\n",
       "      <td>0.0</td>\n",
       "      <td>0.0</td>\n",
       "      <td>0.0</td>\n",
       "      <td>1.0</td>\n",
       "      <td>0.0</td>\n",
       "    </tr>\n",
       "    <tr>\n",
       "      <th>2</th>\n",
       "      <td>0.0</td>\n",
       "      <td>0.0</td>\n",
       "      <td>0.0</td>\n",
       "      <td>0.0</td>\n",
       "      <td>0.0</td>\n",
       "      <td>0.0</td>\n",
       "      <td>1.0</td>\n",
       "      <td>0.0</td>\n",
       "      <td>0.0</td>\n",
       "      <td>0.0</td>\n",
       "      <td>0.0</td>\n",
       "      <td>0.0</td>\n",
       "      <td>1.0</td>\n",
       "      <td>0.0</td>\n",
       "    </tr>\n",
       "    <tr>\n",
       "      <th>3</th>\n",
       "      <td>0.0</td>\n",
       "      <td>0.0</td>\n",
       "      <td>0.0</td>\n",
       "      <td>0.0</td>\n",
       "      <td>0.0</td>\n",
       "      <td>0.0</td>\n",
       "      <td>1.0</td>\n",
       "      <td>1.0</td>\n",
       "      <td>0.0</td>\n",
       "      <td>1.0</td>\n",
       "      <td>1.0</td>\n",
       "      <td>1.0</td>\n",
       "      <td>1.0</td>\n",
       "      <td>0.0</td>\n",
       "    </tr>\n",
       "    <tr>\n",
       "      <th>4</th>\n",
       "      <td>0.0</td>\n",
       "      <td>0.0</td>\n",
       "      <td>0.0</td>\n",
       "      <td>0.0</td>\n",
       "      <td>1.0</td>\n",
       "      <td>0.0</td>\n",
       "      <td>0.0</td>\n",
       "      <td>1.0</td>\n",
       "      <td>0.0</td>\n",
       "      <td>0.0</td>\n",
       "      <td>0.0</td>\n",
       "      <td>0.0</td>\n",
       "      <td>0.0</td>\n",
       "      <td>0.0</td>\n",
       "    </tr>\n",
       "    <tr>\n",
       "      <th>...</th>\n",
       "      <td>...</td>\n",
       "      <td>...</td>\n",
       "      <td>...</td>\n",
       "      <td>...</td>\n",
       "      <td>...</td>\n",
       "      <td>...</td>\n",
       "      <td>...</td>\n",
       "      <td>...</td>\n",
       "      <td>...</td>\n",
       "      <td>...</td>\n",
       "      <td>...</td>\n",
       "      <td>...</td>\n",
       "      <td>...</td>\n",
       "      <td>...</td>\n",
       "    </tr>\n",
       "    <tr>\n",
       "      <th>64</th>\n",
       "      <td>1.0</td>\n",
       "      <td>0.0</td>\n",
       "      <td>1.0</td>\n",
       "      <td>0.0</td>\n",
       "      <td>1.0</td>\n",
       "      <td>1.0</td>\n",
       "      <td>0.0</td>\n",
       "      <td>0.0</td>\n",
       "      <td>1.0</td>\n",
       "      <td>0.0</td>\n",
       "      <td>0.0</td>\n",
       "      <td>0.0</td>\n",
       "      <td>1.0</td>\n",
       "      <td>1.0</td>\n",
       "    </tr>\n",
       "    <tr>\n",
       "      <th>65</th>\n",
       "      <td>1.0</td>\n",
       "      <td>0.0</td>\n",
       "      <td>0.0</td>\n",
       "      <td>0.0</td>\n",
       "      <td>0.0</td>\n",
       "      <td>0.0</td>\n",
       "      <td>0.0</td>\n",
       "      <td>1.0</td>\n",
       "      <td>1.0</td>\n",
       "      <td>0.0</td>\n",
       "      <td>0.0</td>\n",
       "      <td>0.0</td>\n",
       "      <td>0.0</td>\n",
       "      <td>0.0</td>\n",
       "    </tr>\n",
       "    <tr>\n",
       "      <th>66</th>\n",
       "      <td>0.0</td>\n",
       "      <td>1.0</td>\n",
       "      <td>0.0</td>\n",
       "      <td>0.0</td>\n",
       "      <td>0.0</td>\n",
       "      <td>0.0</td>\n",
       "      <td>0.0</td>\n",
       "      <td>1.0</td>\n",
       "      <td>1.0</td>\n",
       "      <td>0.0</td>\n",
       "      <td>0.0</td>\n",
       "      <td>0.0</td>\n",
       "      <td>1.0</td>\n",
       "      <td>0.0</td>\n",
       "    </tr>\n",
       "    <tr>\n",
       "      <th>67</th>\n",
       "      <td>0.0</td>\n",
       "      <td>0.0</td>\n",
       "      <td>0.0</td>\n",
       "      <td>0.0</td>\n",
       "      <td>1.0</td>\n",
       "      <td>0.0</td>\n",
       "      <td>1.0</td>\n",
       "      <td>1.0</td>\n",
       "      <td>0.0</td>\n",
       "      <td>0.0</td>\n",
       "      <td>0.0</td>\n",
       "      <td>0.0</td>\n",
       "      <td>0.0</td>\n",
       "      <td>0.0</td>\n",
       "    </tr>\n",
       "    <tr>\n",
       "      <th>68</th>\n",
       "      <td>1.0</td>\n",
       "      <td>0.0</td>\n",
       "      <td>0.0</td>\n",
       "      <td>0.0</td>\n",
       "      <td>1.0</td>\n",
       "      <td>0.0</td>\n",
       "      <td>0.0</td>\n",
       "      <td>1.0</td>\n",
       "      <td>0.0</td>\n",
       "      <td>0.0</td>\n",
       "      <td>0.0</td>\n",
       "      <td>0.0</td>\n",
       "      <td>0.0</td>\n",
       "      <td>1.0</td>\n",
       "    </tr>\n",
       "  </tbody>\n",
       "</table>\n",
       "<p>69 rows × 14 columns</p>\n",
       "</div>"
      ],
      "text/plain": [
       "    Успех  Торговельна площа, кв. м.  Количество сотрудников в магазине   Тип  \\\n",
       "0     0.0                        0.0                                 0.0  0.0   \n",
       "1     0.0                        0.0                                 0.0  0.0   \n",
       "2     0.0                        0.0                                 0.0  0.0   \n",
       "3     0.0                        0.0                                 0.0  0.0   \n",
       "4     0.0                        0.0                                 0.0  0.0   \n",
       "..    ...                        ...                                 ...  ...   \n",
       "64    1.0                        0.0                                 1.0  0.0   \n",
       "65    1.0                        0.0                                 0.0  0.0   \n",
       "66    0.0                        1.0                                 0.0  0.0   \n",
       "67    0.0                        0.0                                 0.0  0.0   \n",
       "68    1.0                        0.0                                 0.0  0.0   \n",
       "\n",
       "    Рейтинг в гуглі  Количество чеков в месяц  Средний чек  \\\n",
       "0               0.0                       0.0          0.0   \n",
       "1               1.0                       0.0          0.0   \n",
       "2               0.0                       0.0          1.0   \n",
       "3               0.0                       0.0          1.0   \n",
       "4               1.0                       0.0          0.0   \n",
       "..              ...                       ...          ...   \n",
       "64              1.0                       1.0          0.0   \n",
       "65              0.0                       0.0          0.0   \n",
       "66              0.0                       0.0          0.0   \n",
       "67              1.0                       0.0          1.0   \n",
       "68              1.0                       0.0          0.0   \n",
       "\n",
       "    Середній дохід наелення,грн  Населення середнє  Фастфуд  Кава на виніс  \\\n",
       "0                           1.0                0.0      1.0            1.0   \n",
       "1                           1.0                1.0      0.0            0.0   \n",
       "2                           0.0                0.0      0.0            0.0   \n",
       "3                           1.0                0.0      1.0            1.0   \n",
       "4                           1.0                0.0      0.0            0.0   \n",
       "..                          ...                ...      ...            ...   \n",
       "64                          0.0                1.0      0.0            0.0   \n",
       "65                          1.0                1.0      0.0            0.0   \n",
       "66                          1.0                1.0      0.0            0.0   \n",
       "67                          1.0                0.0      0.0            0.0   \n",
       "68                          1.0                0.0      0.0            0.0   \n",
       "\n",
       "    Піцерія  Магістральна вулиця  Внутрішньоквартальна дорога  \n",
       "0       0.0                  1.0                          0.0  \n",
       "1       0.0                  1.0                          0.0  \n",
       "2       0.0                  1.0                          0.0  \n",
       "3       1.0                  1.0                          0.0  \n",
       "4       0.0                  0.0                          0.0  \n",
       "..      ...                  ...                          ...  \n",
       "64      0.0                  1.0                          1.0  \n",
       "65      0.0                  0.0                          0.0  \n",
       "66      0.0                  1.0                          0.0  \n",
       "67      0.0                  0.0                          0.0  \n",
       "68      0.0                  0.0                          1.0  \n",
       "\n",
       "[69 rows x 14 columns]"
      ]
     },
     "execution_count": 75,
     "metadata": {},
     "output_type": "execute_result"
    }
   ],
   "source": [
    "df"
   ]
  },
  {
   "cell_type": "code",
   "execution_count": 76,
   "id": "3e2ca234",
   "metadata": {},
   "outputs": [
    {
     "data": {
      "image/png": "[encoded data removed]",
      "text/plain": [
       "<Figure size 864x648 with 2 Axes>"
      ]
     },
     "metadata": {
      "needs_background": "light"
     },
     "output_type": "display_data"
    }
   ],
   "source": [
    "# Cheking correlations\n",
    "import seaborn as sns\n",
    "corrmat = df.corr()\n",
    "f, ax = plt.subplots(figsize=(12, 9))\n",
    "sns.heatmap(corrmat, annot=True)\n",
    "plt.show()"
   ]
  },
  {
   "cell_type": "markdown",
   "id": "9254d630",
   "metadata": {},
   "source": [
    "## Number of clusters"
   ]
  },
  {
   "cell_type": "code",
   "execution_count": 77,
   "id": "aa4c4f57",
   "metadata": {},
   "outputs": [
    {
     "data": {
      "image/png": "[encoded data removed]",
      "text/plain": [
       "<Figure size 432x288 with 1 Axes>"
      ]
     },
     "metadata": {
      "needs_background": "light"
     },
     "output_type": "display_data"
    }
   ],
   "source": [
    "# Using the dendrogram to find the optimal number of clusters\n",
    "import scipy.cluster.hierarchy as sch\n",
    "dendrogram = sch.dendrogram(sch.linkage(df, method = 'ward'))\n",
    "plt.title('Dendrogram')\n",
    "plt.xlabel('Customers')\n",
    "plt.ylabel('Euclidean distances')\n",
    "plt.show()"
   ]
  },
  {
   "cell_type": "markdown",
   "id": "6edd11ac",
   "metadata": {},
   "source": [
    "## Baseline model"
   ]
  },
  {
   "cell_type": "code",
   "execution_count": 78,
   "id": "6da2d8f9",
   "metadata": {},
   "outputs": [],
   "source": [
    "# Fitting Hierarchical Clustering to the dataset\n",
    "from sklearn.cluster import AgglomerativeClustering\n",
    "hc = AgglomerativeClustering(n_clusters = 6, affinity = 'euclidean', linkage = 'ward').fit_predict(df)"
   ]
  },
  {
   "cell_type": "code",
   "execution_count": 79,
   "id": "ffadcee2",
   "metadata": {},
   "outputs": [
    {
     "data": {
      "text/plain": [
       "array([3, 2, 0, 3, 5, 0, 2, 1, 0, 3, 3, 4, 0, 2, 4, 2, 0, 0, 5, 2, 0, 0,\n",
       "       0, 4, 0, 2, 0, 2, 0, 4, 5, 2, 4, 0, 3, 5, 0, 2, 2, 2, 2, 1, 2, 1,\n",
       "       2, 0, 2, 3, 5, 1, 1, 3, 1, 0, 5, 0, 5, 0, 5, 0, 0, 4, 1, 0, 1, 2,\n",
       "       2, 5, 0], dtype=int64)"
      ]
     },
     "execution_count": 79,
     "metadata": {},
     "output_type": "execute_result"
    }
   ],
   "source": [
    "hc"
   ]
  },
  {
   "cell_type": "markdown",
   "id": "03cec2fe",
   "metadata": {},
   "source": [
    "## Feature Reduction"
   ]
  },
  {
   "cell_type": "code",
   "execution_count": 80,
   "id": "75b22f0b",
   "metadata": {},
   "outputs": [],
   "source": [
    "# Less features\n",
    "X = df.iloc[:, [0, 2, 5]]"
   ]
  },
  {
   "cell_type": "code",
   "execution_count": 81,
   "id": "6bd42787",
   "metadata": {},
   "outputs": [
    {
     "data": {
      "image/png": "[encoded data removed]",
      "text/plain": [
       "<Figure size 432x288 with 1 Axes>"
      ]
     },
     "metadata": {
      "needs_background": "light"
     },
     "output_type": "display_data"
    }
   ],
   "source": [
    "# Using the dendrogram to find the optimal number of clusters\n",
    "import scipy.cluster.hierarchy as sch\n",
    "dendrogram = sch.dendrogram(sch.linkage(X, method = 'ward'))\n",
    "plt.title('Dendrogram')\n",
    "plt.xlabel('Customers')\n",
    "plt.ylabel('Euclidean distances')\n",
    "plt.show()"
   ]
  },
  {
   "cell_type": "code",
   "execution_count": 82,
   "id": "696ca7ce",
   "metadata": {},
   "outputs": [],
   "source": [
    "# Fitting Hierarchical Clustering to the dataset\n",
    "from sklearn.cluster import AgglomerativeClustering\n",
    "hc = AgglomerativeClustering(n_clusters = 2, affinity = 'euclidean', linkage = 'ward').fit_predict(df)"
   ]
  },
  {
   "cell_type": "markdown",
   "id": "8fee39aa",
   "metadata": {},
   "source": [
    "## K-Means Clustering"
   ]
  },
  {
   "cell_type": "code",
   "execution_count": 85,
   "id": "eea8195a",
   "metadata": {},
   "outputs": [
    {
     "name": "stderr",
     "output_type": "stream",
     "text": [
      "C:\\Users\\Gigabyte\\anaconda3\\lib\\site-packages\\sklearn\\cluster\\_kmeans.py:881: UserWarning: KMeans is known to have a memory leak on Windows with MKL, when there are less chunks than available threads. You can avoid it by setting the environment variable OMP_NUM_THREADS=1.\n",
      "  warnings.warn(\n"
     ]
    },
    {
     "data": {
      "image/png": "[encoded data removed]",
      "text/plain": [
       "<Figure size 432x288 with 1 Axes>"
      ]
     },
     "metadata": {
      "needs_background": "light"
     },
     "output_type": "display_data"
    }
   ],
   "source": [
    "# Using the elbow method to find the optimal number of clusters\n",
    "from sklearn.cluster import KMeans\n",
    "wcss = []\n",
    "for i in range(1, 11):\n",
    "    kmeans = KMeans(n_clusters = i, init = 'k-means++', random_state = 0)\n",
    "    kmeans.fit(df)\n",
    "    wcss.append(kmeans.inertia_)\n",
    "\n",
    "plt.plot(range(1, 11), wcss)\n",
    "plt.title('The Elbow Method')\n",
    "plt.xlabel('Number of clusters')\n",
    "plt.ylabel('WCSS')\n",
    "plt.show()"
   ]
  },
  {
   "cell_type": "code",
   "execution_count": 84,
   "id": "d0a59053",
   "metadata": {},
   "outputs": [
    {
     "data": {
      "image/png": "[encoded data removed]",
      "text/plain": [
       "<Figure size 432x288 with 1 Axes>"
      ]
     },
     "metadata": {
      "needs_background": "light"
     },
     "output_type": "display_data"
    },
    {
     "name": "stdout",
     "output_type": "stream",
     "text": [
      "2:0.2372988870506128\n",
      "3:0.18167916749745394\n",
      "4:0.18113604459420596\n",
      "5:0.1982207878904961\n"
     ]
    }
   ],
   "source": [
    "# Using the silhouette method to find the optimal number of clusters\n",
    "from sklearn.metrics import silhouette_score\n",
    "\n",
    "sil = []\n",
    "\n",
    "for k in range(2, 6):\n",
    "  kmeans = KMeans(n_clusters = k).fit(df)  \n",
    "  preds = kmeans.fit_predict(df)\n",
    "  sil.append(silhouette_score(df, preds, metric = 'euclidean'))\n",
    "\n",
    "\n",
    "plt.plot(range(2, 6), sil)\n",
    "plt.title('Silhouette Method')\n",
    "plt.xlabel('Number of clusters')\n",
    "plt.ylabel('Sil')\n",
    "plt.show()\n",
    "\n",
    "for i in range(len(sil)):\n",
    " print(str(i+2) +\":\"+ str(sil[i]))"
   ]
  },
  {
   "cell_type": "markdown",
   "id": "770a7ce6",
   "metadata": {},
   "source": [
    "## Model"
   ]
  },
  {
   "cell_type": "code",
   "execution_count": 86,
   "id": "0a8f1f13",
   "metadata": {},
   "outputs": [
    {
     "data": {
      "text/html": [
       "<div>\n",
       "<style scoped>\n",
       "    .dataframe tbody tr th:only-of-type {\n",
       "        vertical-align: middle;\n",
       "    }\n",
       "\n",
       "    .dataframe tbody tr th {\n",
       "        vertical-align: top;\n",
       "    }\n",
       "\n",
       "    .dataframe thead th {\n",
       "        text-align: right;\n",
       "    }\n",
       "</style>\n",
       "<table border=\"1\" class=\"dataframe\">\n",
       "  <thead>\n",
       "    <tr style=\"text-align: right;\">\n",
       "      <th></th>\n",
       "      <th>Успех</th>\n",
       "      <th>Торговельна площа, кв. м.</th>\n",
       "      <th>Количество сотрудников в магазине</th>\n",
       "      <th>Тип</th>\n",
       "      <th>Рейтинг в гуглі</th>\n",
       "      <th>Количество чеков в месяц</th>\n",
       "      <th>Средний чек</th>\n",
       "      <th>Середній дохід наелення,грн</th>\n",
       "      <th>Населення середнє</th>\n",
       "      <th>Фастфуд</th>\n",
       "      <th>Кава на виніс</th>\n",
       "      <th>Піцерія</th>\n",
       "      <th>Магістральна вулиця</th>\n",
       "      <th>Внутрішньоквартальна дорога</th>\n",
       "    </tr>\n",
       "  </thead>\n",
       "  <tbody>\n",
       "    <tr>\n",
       "      <th>0</th>\n",
       "      <td>1.00</td>\n",
       "      <td>0.31</td>\n",
       "      <td>1.00</td>\n",
       "      <td>0.00</td>\n",
       "      <td>0.85</td>\n",
       "      <td>0.92</td>\n",
       "      <td>0.62</td>\n",
       "      <td>0.77</td>\n",
       "      <td>0.46</td>\n",
       "      <td>0.15</td>\n",
       "      <td>0.15</td>\n",
       "      <td>0.00</td>\n",
       "      <td>0.69</td>\n",
       "      <td>0.38</td>\n",
       "    </tr>\n",
       "    <tr>\n",
       "      <th>1</th>\n",
       "      <td>0.47</td>\n",
       "      <td>0.00</td>\n",
       "      <td>0.06</td>\n",
       "      <td>0.00</td>\n",
       "      <td>0.88</td>\n",
       "      <td>0.18</td>\n",
       "      <td>0.12</td>\n",
       "      <td>0.71</td>\n",
       "      <td>0.76</td>\n",
       "      <td>0.24</td>\n",
       "      <td>0.06</td>\n",
       "      <td>0.06</td>\n",
       "      <td>0.12</td>\n",
       "      <td>0.94</td>\n",
       "    </tr>\n",
       "    <tr>\n",
       "      <th>2</th>\n",
       "      <td>0.00</td>\n",
       "      <td>0.08</td>\n",
       "      <td>0.00</td>\n",
       "      <td>0.08</td>\n",
       "      <td>0.58</td>\n",
       "      <td>-0.00</td>\n",
       "      <td>0.08</td>\n",
       "      <td>0.83</td>\n",
       "      <td>0.00</td>\n",
       "      <td>0.67</td>\n",
       "      <td>1.00</td>\n",
       "      <td>0.25</td>\n",
       "      <td>0.58</td>\n",
       "      <td>0.33</td>\n",
       "    </tr>\n",
       "    <tr>\n",
       "      <th>3</th>\n",
       "      <td>0.15</td>\n",
       "      <td>0.07</td>\n",
       "      <td>0.00</td>\n",
       "      <td>0.07</td>\n",
       "      <td>0.56</td>\n",
       "      <td>-0.00</td>\n",
       "      <td>0.07</td>\n",
       "      <td>0.89</td>\n",
       "      <td>0.37</td>\n",
       "      <td>0.00</td>\n",
       "      <td>-0.00</td>\n",
       "      <td>0.07</td>\n",
       "      <td>0.48</td>\n",
       "      <td>0.04</td>\n",
       "    </tr>\n",
       "  </tbody>\n",
       "</table>\n",
       "</div>"
      ],
      "text/plain": [
       "   Успех  Торговельна площа, кв. м.  Количество сотрудников в магазине    Тип  \\\n",
       "0   1.00                       0.31                                1.00  0.00   \n",
       "1   0.47                       0.00                                0.06  0.00   \n",
       "2   0.00                       0.08                                0.00  0.08   \n",
       "3   0.15                       0.07                                0.00  0.07   \n",
       "\n",
       "   Рейтинг в гуглі  Количество чеков в месяц  Средний чек  \\\n",
       "0             0.85                      0.92         0.62   \n",
       "1             0.88                      0.18         0.12   \n",
       "2             0.58                     -0.00         0.08   \n",
       "3             0.56                     -0.00         0.07   \n",
       "\n",
       "   Середній дохід наелення,грн  Населення середнє  Фастфуд  Кава на виніс  \\\n",
       "0                         0.77               0.46     0.15           0.15   \n",
       "1                         0.71               0.76     0.24           0.06   \n",
       "2                         0.83               0.00     0.67           1.00   \n",
       "3                         0.89               0.37     0.00          -0.00   \n",
       "\n",
       "   Піцерія  Магістральна вулиця  Внутрішньоквартальна дорога  \n",
       "0     0.00                 0.69                         0.38  \n",
       "1     0.06                 0.12                         0.94  \n",
       "2     0.25                 0.58                         0.33  \n",
       "3     0.07                 0.48                         0.04  "
      ]
     },
     "execution_count": 86,
     "metadata": {},
     "output_type": "execute_result"
    }
   ],
   "source": [
    "# Fitting K-Means to the dataset\n",
    "km = KMeans(n_clusters = 4, init = 'k-means++', random_state = 0).fit_predict(df)\n",
    "kms = KMeans(n_clusters = 4, random_state = 0).fit(df)\n",
    "pd.DataFrame(kms.cluster_centers_, columns = ['Успех','Торговельна площа, кв. м.','Количество сотрудников в магазине ','Тип','Рейтинг в гуглі','Количество чеков в месяц','Средний чек','Середній дохід наелення,грн','Населення середнє','Фастфуд','Кава на виніс','Піцерія','Магістральна вулиця','Внутрішньоквартальна дорога']).round(2)"
   ]
  },
  {
   "cell_type": "markdown",
   "id": "b014f694",
   "metadata": {},
   "source": [
    "## Feature Reduction"
   ]
  },
  {
   "cell_type": "code",
   "execution_count": 90,
   "id": "6ccf654f",
   "metadata": {},
   "outputs": [],
   "source": [
    "# Less features\n",
    "X = df.iloc[:, [0, 2, 5]]"
   ]
  },
  {
   "cell_type": "code",
   "execution_count": 91,
   "id": "c72c683a",
   "metadata": {},
   "outputs": [
    {
     "data": {
      "text/html": [
       "<div>\n",
       "<style scoped>\n",
       "    .dataframe tbody tr th:only-of-type {\n",
       "        vertical-align: middle;\n",
       "    }\n",
       "\n",
       "    .dataframe tbody tr th {\n",
       "        vertical-align: top;\n",
       "    }\n",
       "\n",
       "    .dataframe thead th {\n",
       "        text-align: right;\n",
       "    }\n",
       "</style>\n",
       "<table border=\"1\" class=\"dataframe\">\n",
       "  <thead>\n",
       "    <tr style=\"text-align: right;\">\n",
       "      <th></th>\n",
       "      <th>Успех</th>\n",
       "      <th>Количество сотрудников в магазине</th>\n",
       "      <th>Количество чеков в месяц</th>\n",
       "    </tr>\n",
       "  </thead>\n",
       "  <tbody>\n",
       "    <tr>\n",
       "      <th>0</th>\n",
       "      <td>0.0</td>\n",
       "      <td>0.0</td>\n",
       "      <td>-0.0</td>\n",
       "    </tr>\n",
       "    <tr>\n",
       "      <th>1</th>\n",
       "      <td>1.0</td>\n",
       "      <td>1.0</td>\n",
       "      <td>1.0</td>\n",
       "    </tr>\n",
       "  </tbody>\n",
       "</table>\n",
       "</div>"
      ],
      "text/plain": [
       "   Успех  Количество сотрудников в магазине  Количество чеков в месяц\n",
       "0    0.0                                0.0                      -0.0\n",
       "1    1.0                                1.0                       1.0"
      ]
     },
     "execution_count": 91,
     "metadata": {},
     "output_type": "execute_result"
    }
   ],
   "source": [
    "# Fitting K-Means to the dataset\n",
    "km = KMeans(n_clusters = 2, init = 'k-means++', random_state = 0).fit_predict(X)\n",
    "kms = KMeans(n_clusters = 2, random_state = 0).fit(X)\n",
    "pd.DataFrame(kms.cluster_centers_, columns = ['Успех','Количество сотрудников в магазине','Количество чеков в месяц']).round()"
   ]
  },
  {
   "cell_type": "markdown",
   "id": "995f0a14",
   "metadata": {},
   "source": [
    "## Results matching"
   ]
  },
  {
   "cell_type": "code",
   "execution_count": 92,
   "id": "c80c90da",
   "metadata": {},
   "outputs": [
    {
     "data": {
      "text/plain": [
       "0.8155926895769781"
      ]
     },
     "execution_count": 92,
     "metadata": {},
     "output_type": "execute_result"
    }
   ],
   "source": [
    "# Comparing Clustering Algorithms\n",
    "from sklearn.metrics.cluster import adjusted_rand_score\n",
    "adjusted_rand_score(hc,km)"
   ]
  },
  {
   "cell_type": "code",
   "execution_count": 93,
   "id": "06fb4c60",
   "metadata": {},
   "outputs": [],
   "source": [
    "# Результаты иерархической кластеризации пересекаются на 82% с результатами кластеризации на основе К-средних. "
   ]
  },
  {
   "cell_type": "code",
   "execution_count": null,
   "id": "9dcc9802",
   "metadata": {},
   "outputs": [],
   "source": []
  }
 ],
 "metadata": {
  "kernelspec": {
   "display_name": "Python 3 (ipykernel)",
   "language": "python",
   "name": "python3"
  },
  "language_info": {
   "codemirror_mode": {
    "name": "ipython",
    "version": 3
   },
   "file_extension": ".py",
   "mimetype": "text/x-python",
   "name": "python",
   "nbconvert_exporter": "python",
   "pygments_lexer": "ipython3",
   "version": "3.9.7"
  }
 },
 "nbformat": 4,
 "nbformat_minor": 5
}
